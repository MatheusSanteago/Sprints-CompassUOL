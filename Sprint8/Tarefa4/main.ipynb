{
  "cells": [
    {
      "attachments": {},
      "cell_type": "markdown",
      "metadata": {
        "id": "awWPl4O8B-ij"
      },
      "source": [
        "##### Parte 1 > Realizando import's e iniciando pyspark"
      ]
    },
    {
      "cell_type": "code",
      "execution_count": 28,
      "metadata": {
        "id": "XqQCuoDDJt1o"
      },
      "outputs": [],
      "source": [
        "from pyspark.sql import SparkSession\n",
        "from pyspark import SparkContext, SQLContext\n",
        "from pyspark.sql.types import StringType\n",
        "import random\n",
        "from pyspark.sql.functions import *"
      ]
    },
    {
      "cell_type": "code",
      "execution_count": 29,
      "metadata": {
        "id": "qSTTC7qczdG4"
      },
      "outputs": [
        {
          "name": "stdout",
          "output_type": "stream",
          "text": [
            "+----------------+\n",
            "|             _c0|\n",
            "+----------------+\n",
            "|  Frances Bennet|\n",
            "|   Jamie Russell|\n",
            "|  Edward Kistler|\n",
            "|   Sheila Maurer|\n",
            "|Donald Golightly|\n",
            "+----------------+\n",
            "only showing top 5 rows\n",
            "\n"
          ]
        }
      ],
      "source": [
        "# Nesta etapa, adicoine código para ler o arquivo nomes_aleatorios.txt através do comando spark.read.csv. \n",
        "# Carregue-o para dentro de um dataframe chamado df_nomes e, por fim, liste algumas linhas através do método show. Exemplo: df_nomes.show(5)\n",
        "\n",
        "spark = SparkSession.builder.master(\"local[*]\").appName(\"Tarefa\").getOrCreate()\n",
        "df_nomes = spark.read.csv('../Tarefa3/nomes_aleatorios.txt')\n",
        "df_nomes.show(5)"
      ]
    },
    {
      "attachments": {},
      "cell_type": "markdown",
      "metadata": {
        "id": "w2u86mqoCL1Q"
      },
      "source": [
        "##### Parte 2 > Renomear coluna, imprimir o schema e mostrar 10 linhas"
      ]
    },
    {
      "cell_type": "code",
      "execution_count": 30,
      "metadata": {
        "id": "8TeMlERyEmmy"
      },
      "outputs": [
        {
          "name": "stdout",
          "output_type": "stream",
          "text": [
            "root\n",
            " |-- Nomes: string (nullable = true)\n",
            "\n",
            "+-----------------+\n",
            "|            Nomes|\n",
            "+-----------------+\n",
            "|   Frances Bennet|\n",
            "|    Jamie Russell|\n",
            "|   Edward Kistler|\n",
            "|    Sheila Maurer|\n",
            "| Donald Golightly|\n",
            "|       David Gray|\n",
            "|      Joy Bennett|\n",
            "|      Paul Kriese|\n",
            "|Berniece Ornellas|\n",
            "|    Brian Farrell|\n",
            "+-----------------+\n",
            "only showing top 10 rows\n",
            "\n"
          ]
        }
      ],
      "source": [
        "df_nomes = df_nomes.withColumnRenamed('_c0', 'Nomes')\n",
        "df_nomes.printSchema()\n",
        "df_nomes.show(10)\n"
      ]
    },
    {
      "attachments": {},
      "cell_type": "markdown",
      "metadata": {
        "id": "kvgYhzzNHQc7"
      },
      "source": [
        "##### Parte 3 > Adicionar nova coluna chamada Escolaridade"
      ]
    },
    {
      "cell_type": "code",
      "execution_count": 31,
      "metadata": {
        "id": "y9iG1U6gQTAd"
      },
      "outputs": [],
      "source": [
        "escolaridade = ['Fundamental', 'Médio', 'Superior']\n",
        "\n",
        "df_nomes = df_nomes.withColumn('Escolaridade', udf(f=lambda: escolaridade[random.randint(0,2)],returnType=StringType())())"
      ]
    },
    {
      "attachments": {},
      "cell_type": "markdown",
      "metadata": {
        "id": "INRyg22WQ3Om"
      },
      "source": [
        "##### Parte 4 > Adicionar países da América do Sul\n"
      ]
    },
    {
      "cell_type": "code",
      "execution_count": 32,
      "metadata": {
        "id": "yiaajaWrRlEZ"
      },
      "outputs": [],
      "source": [
        "paises = [\"Brasil\", \"Argentina\", \"Colômbia\", \"Peru\", \"Venezuela\", \"Chile\", \"Equador\",\n",
        "            \"Bolívia\", \"Paraguai\", \"Uruguai\", \"Guiana\", \"Suriname\", \"Guiana Francesa\"]\n",
        "\n",
        "df_nomes = df_nomes.withColumn('Pais', udf(f=lambda: paises[random.randint(0,12)],returnType=StringType())())"
      ]
    },
    {
      "attachments": {},
      "cell_type": "markdown",
      "metadata": {
        "id": "X1gqbdO2SHpj"
      },
      "source": [
        "##### Parte 5 > Adicione nova coluna chamada AnoNascimento"
      ]
    },
    {
      "cell_type": "code",
      "execution_count": 33,
      "metadata": {
        "id": "VbJglRYCSJG6"
      },
      "outputs": [],
      "source": [
        "df_nomes = df_nomes.withColumn(\"AnoNascimento\", expr(\"CAST(FLOOR(RAND() * (66) + 1945) AS INT)\"))"
      ]
    },
    {
      "attachments": {},
      "cell_type": "markdown",
      "metadata": {
        "id": "HtQllqhuYs1M"
      },
      "source": [
        "##### Parte 6 > Usando o método select do dataframe (df_nomes), selecione as pessoas que nasceram neste século"
      ]
    },
    {
      "cell_type": "code",
      "execution_count": 34,
      "metadata": {
        "id": "r3lZ6k1tYzUU"
      },
      "outputs": [
        {
          "name": "stdout",
          "output_type": "stream",
          "text": [
            "+-----------------+------------+--------+-------------+\n",
            "|            Nomes|Escolaridade|    Pais|AnoNascimento|\n",
            "+-----------------+------------+--------+-------------+\n",
            "|    Jamie Russell| Fundamental|Suriname|         2005|\n",
            "|    Sheila Maurer|    Superior| Bolívia|         2010|\n",
            "|Berniece Ornellas| Fundamental|Suriname|         2001|\n",
            "|    Tracy Herring|       Médio|Colômbia|         2003|\n",
            "|  Howard Lazarine|    Superior|   Chile|         2010|\n",
            "|      Albert Leef| Fundamental|    Peru|         2000|\n",
            "|   Gabriel Colyer|    Superior|    Peru|         2001|\n",
            "|     Roxie Bernal| Fundamental|  Brasil|         2002|\n",
            "|       John Meyer|    Superior| Equador|         2008|\n",
            "|      Sandra Todd|       Médio|  Guiana|         2000|\n",
            "+-----------------+------------+--------+-------------+\n",
            "only showing top 10 rows\n",
            "\n"
          ]
        }
      ],
      "source": [
        "df_select = df_nomes.select('*').where(df_nomes.AnoNascimento >= 2000)\n",
        "df_select.show(10)"
      ]
    },
    {
      "attachments": {},
      "cell_type": "markdown",
      "metadata": {
        "id": "ZwQtBtjxaqaA"
      },
      "source": [
        "##### Parte 7 > Usando Spark SQL repita o processo da Pergunta 6."
      ]
    },
    {
      "cell_type": "code",
      "execution_count": 35,
      "metadata": {
        "id": "BGLn2Hd4atAP"
      },
      "outputs": [
        {
          "name": "stdout",
          "output_type": "stream",
          "text": [
            "+-----------------+------------+---------------+-------------+\n",
            "|            Nomes|Escolaridade|           Pais|AnoNascimento|\n",
            "+-----------------+------------+---------------+-------------+\n",
            "|    Jamie Russell|       Médio|        Bolívia|         2005|\n",
            "|    Sheila Maurer|       Médio|         Brasil|         2010|\n",
            "|Berniece Ornellas| Fundamental|       Paraguai|         2001|\n",
            "|    Tracy Herring|    Superior|        Equador|         2003|\n",
            "|  Howard Lazarine| Fundamental|       Suriname|         2010|\n",
            "|      Albert Leef| Fundamental|         Guiana|         2000|\n",
            "|   Gabriel Colyer|    Superior|Guiana Francesa|         2001|\n",
            "|     Roxie Bernal| Fundamental|          Chile|         2002|\n",
            "|       John Meyer| Fundamental|Guiana Francesa|         2008|\n",
            "|      Sandra Todd|    Superior|        Equador|         2000|\n",
            "+-----------------+------------+---------------+-------------+\n",
            "only showing top 10 rows\n",
            "\n"
          ]
        }
      ],
      "source": [
        "df_nomes.createOrReplaceTempView('pessoas')\n",
        "spark.sql('SELECT * FROM pessoas WHERE AnoNascimento >= 2000').show(10)\n"
      ]
    },
    {
      "attachments": {},
      "cell_type": "markdown",
      "metadata": {
        "id": "F6eByPWNcb3a"
      },
      "source": [
        "##### Parte 8 > Conte o número de pessoas que são da geração Millennials\n"
      ]
    },
    {
      "cell_type": "code",
      "execution_count": 36,
      "metadata": {
        "id": "qCHB0iAAcduI"
      },
      "outputs": [
        {
          "name": "stdout",
          "output_type": "stream",
          "text": [
            "2274199\n"
          ]
        }
      ],
      "source": [
        "m = df_nomes.select('*').where(df_nomes.AnoNascimento.between(1980, 1994)).count()\n",
        "print(m)\n"
      ]
    },
    {
      "attachments": {},
      "cell_type": "markdown",
      "metadata": {
        "id": "1IQcjJRwd5Vb"
      },
      "source": [
        "##### Parte 9 > Repita o processo da Pergunta 8 utilizando Spark SQL"
      ]
    },
    {
      "cell_type": "code",
      "execution_count": 37,
      "metadata": {
        "id": "ZQfYHdP2eIe6"
      },
      "outputs": [
        {
          "name": "stdout",
          "output_type": "stream",
          "text": [
            "+--------+\n",
            "|Contagem|\n",
            "+--------+\n",
            "| 2274199|\n",
            "+--------+\n",
            "\n"
          ]
        }
      ],
      "source": [
        "spark.sql('SELECT COUNT(*) as Contagem FROM pessoas WHERE AnoNascimento BETWEEN 1980 AND 1994').show()"
      ]
    },
    {
      "attachments": {},
      "cell_type": "markdown",
      "metadata": {
        "id": "pebam_PTfZli"
      },
      "source": [
        "##### Parte 10 > Obtenha a quantidade de pessoas de cada país para uma das gerações"
      ]
    },
    {
      "cell_type": "code",
      "execution_count": 49,
      "metadata": {
        "id": "LF5Lxx6Ro9Is"
      },
      "outputs": [
        {
          "name": "stderr",
          "output_type": "stream",
          "text": [
            "C:\\Users\\mathe\\AppData\\Local\\Packages\\PythonSoftwareFoundation.Python.3.11_qbz5n2kfra8p0\\LocalCache\\local-packages\\Python311\\site-packages\\pyspark\\sql\\context.py:112: FutureWarning: Deprecated in 3.0.0. Use SparkSession.builder.getOrCreate() instead.\n",
            "  warnings.warn(\n"
          ]
        }
      ],
      "source": [
        "sqlContext = SQLContext(spark)\n",
        "\n",
        "babys = sqlContext.sql(\"SELECT Pais, 'Baby Boomers' AS geracao, count(*) as Quantidade\\\n",
        "                        FROM pessoas\\\n",
        "                        WHERE AnoNascimento BETWEEN 1944 AND 1964\\\n",
        "                        GROUP BY Pais\")\n",
        "\n",
        "ger_x = sqlContext.sql(\"SELECT Pais, 'Geração X' AS geracao, count(*) as Quantidade\\\n",
        "                        FROM pessoas\\\n",
        "                        WHERE AnoNascimento BETWEEN 1944 AND 1964\\\n",
        "                        GROUP BY Pais\\\n",
        "                        ORDER BY Pais, Geracao, Quantidade\")\n",
        "\n",
        "millenials = sqlContext.sql(\"SELECT Pais, 'Millennials' AS geracao, count(*) as Quantidade\\\n",
        "                        FROM pessoas\\\n",
        "                        WHERE AnoNascimento BETWEEN 1944 AND 1964\\\n",
        "                        GROUP BY Pais\\\n",
        "                        ORDER BY Pais, Geracao, Quantidade\")\n",
        "\n",
        "ger_z = sqlContext.sql(\"SELECT Pais, 'Geração Z' AS geracao, count(*) as Quantidade\\\n",
        "                        FROM pessoas\\\n",
        "                        WHERE AnoNascimento BETWEEN 1944 AND 1964\\\n",
        "                        GROUP BY Pais\\\n",
        "                        ORDER BY Pais, Geracao, Quantidade\")"
      ]
    },
    {
      "cell_type": "code",
      "execution_count": 51,
      "metadata": {},
      "outputs": [
        {
          "name": "stdout",
          "output_type": "stream",
          "text": [
            "+---------------+------------+----------+\n",
            "|           Pais|     geracao|Quantidade|\n",
            "+---------------+------------+----------+\n",
            "|      Argentina|Baby Boomers|    233427|\n",
            "|        Bolívia|Baby Boomers|    233235|\n",
            "|         Brasil|Baby Boomers|    232348|\n",
            "|          Chile|Baby Boomers|    233394|\n",
            "|       Colômbia|Baby Boomers|    233888|\n",
            "|        Equador|Baby Boomers|    232753|\n",
            "|         Guiana|Baby Boomers|    232731|\n",
            "|Guiana Francesa|Baby Boomers|    233372|\n",
            "|       Paraguai|Baby Boomers|    232996|\n",
            "|           Peru|Baby Boomers|    232574|\n",
            "|       Suriname|Baby Boomers|    233123|\n",
            "|        Uruguai|Baby Boomers|    232799|\n",
            "|      Venezuela|Baby Boomers|    232502|\n",
            "+---------------+------------+----------+\n",
            "\n"
          ]
        }
      ],
      "source": [
        "babys.orderBy(\"Pais\",\"Geracao\", \"Quantidade\").show()"
      ]
    },
    {
      "cell_type": "code",
      "execution_count": 52,
      "metadata": {},
      "outputs": [
        {
          "name": "stdout",
          "output_type": "stream",
          "text": [
            "+---------------+---------+----------+\n",
            "|           Pais|  geracao|Quantidade|\n",
            "+---------------+---------+----------+\n",
            "|      Argentina|Geração X|    233017|\n",
            "|        Bolívia|Geração X|    233279|\n",
            "|         Brasil|Geração X|    232593|\n",
            "|          Chile|Geração X|    233194|\n",
            "|       Colômbia|Geração X|    232941|\n",
            "|        Equador|Geração X|    232966|\n",
            "|         Guiana|Geração X|    232667|\n",
            "|Guiana Francesa|Geração X|    232732|\n",
            "|       Paraguai|Geração X|    232969|\n",
            "|           Peru|Geração X|    233872|\n",
            "|       Suriname|Geração X|    233290|\n",
            "|        Uruguai|Geração X|    233493|\n",
            "|      Venezuela|Geração X|    232129|\n",
            "+---------------+---------+----------+\n",
            "\n"
          ]
        }
      ],
      "source": [
        "ger_x.orderBy(\"Pais\",\"Geracao\", \"Quantidade\").show()"
      ]
    },
    {
      "cell_type": "code",
      "execution_count": 53,
      "metadata": {},
      "outputs": [
        {
          "name": "stdout",
          "output_type": "stream",
          "text": [
            "+---------------+-----------+----------+\n",
            "|           Pais|    geracao|Quantidade|\n",
            "+---------------+-----------+----------+\n",
            "|      Argentina|Millennials|    233018|\n",
            "|        Bolívia|Millennials|    232845|\n",
            "|         Brasil|Millennials|    233166|\n",
            "|          Chile|Millennials|    232669|\n",
            "|       Colômbia|Millennials|    232942|\n",
            "|        Equador|Millennials|    232715|\n",
            "|         Guiana|Millennials|    232546|\n",
            "|Guiana Francesa|Millennials|    233145|\n",
            "|       Paraguai|Millennials|    233119|\n",
            "|           Peru|Millennials|    233475|\n",
            "|       Suriname|Millennials|    233783|\n",
            "|        Uruguai|Millennials|    233138|\n",
            "|      Venezuela|Millennials|    232581|\n",
            "+---------------+-----------+----------+\n",
            "\n"
          ]
        }
      ],
      "source": [
        "millenials.orderBy(\"Pais\",\"Geracao\", \"Quantidade\").show()"
      ]
    },
    {
      "cell_type": "code",
      "execution_count": 54,
      "metadata": {},
      "outputs": [
        {
          "name": "stdout",
          "output_type": "stream",
          "text": [
            "+---------------+---------+----------+\n",
            "|           Pais|  geracao|Quantidade|\n",
            "+---------------+---------+----------+\n",
            "|      Argentina|Geração Z|    233008|\n",
            "|        Bolívia|Geração Z|    232610|\n",
            "|         Brasil|Geração Z|    233360|\n",
            "|          Chile|Geração Z|    232555|\n",
            "|       Colômbia|Geração Z|    232911|\n",
            "|        Equador|Geração Z|    233788|\n",
            "|         Guiana|Geração Z|    232744|\n",
            "|Guiana Francesa|Geração Z|    232667|\n",
            "|       Paraguai|Geração Z|    233230|\n",
            "|           Peru|Geração Z|    233187|\n",
            "|       Suriname|Geração Z|    233152|\n",
            "|        Uruguai|Geração Z|    232856|\n",
            "|      Venezuela|Geração Z|    233074|\n",
            "+---------------+---------+----------+\n",
            "\n"
          ]
        }
      ],
      "source": [
        "ger_z.orderBy(\"Pais\",\"Geracao\", \"Quantidade\").show()"
      ]
    }
  ],
  "metadata": {
    "colab": {
      "provenance": []
    },
    "kernelspec": {
      "display_name": "Python 3",
      "name": "python3"
    },
    "language_info": {
      "codemirror_mode": {
        "name": "ipython",
        "version": 3
      },
      "file_extension": ".py",
      "mimetype": "text/x-python",
      "name": "python",
      "nbconvert_exporter": "python",
      "pygments_lexer": "ipython3",
      "version": "3.11.4"
    }
  },
  "nbformat": 4,
  "nbformat_minor": 0
}
