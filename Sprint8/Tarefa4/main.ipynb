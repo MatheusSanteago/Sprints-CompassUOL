{
  "cells": [
    {
      "attachments": {},
      "cell_type": "markdown",
      "metadata": {},
      "source": [
        "> Algumas questões foram alteradas depois do envio na Udemy"
      ]
    },
    {
      "attachments": {},
      "cell_type": "markdown",
      "metadata": {
        "id": "awWPl4O8B-ij"
      },
      "source": [
        "##### Parte 1 > Realizando import's e iniciando pyspark"
      ]
    },
    {
      "cell_type": "code",
      "execution_count": 54,
      "metadata": {
        "id": "XqQCuoDDJt1o"
      },
      "outputs": [],
      "source": [
        "from pyspark.sql import SparkSession\n",
        "from pyspark import SparkContext, SQLContext\n",
        "from pyspark.sql.types import StringType\n",
        "import random\n",
        "from pyspark.sql import DataFrame\n",
        "from pyspark.sql.functions import *\n",
        "from functools import reduce"
      ]
    },
    {
      "cell_type": "code",
      "execution_count": 55,
      "metadata": {
        "id": "qSTTC7qczdG4"
      },
      "outputs": [
        {
          "name": "stdout",
          "output_type": "stream",
          "text": [
            "+----------------+\n",
            "|             _c0|\n",
            "+----------------+\n",
            "|  Frances Bennet|\n",
            "|   Jamie Russell|\n",
            "|  Edward Kistler|\n",
            "|   Sheila Maurer|\n",
            "|Donald Golightly|\n",
            "+----------------+\n",
            "only showing top 5 rows\n",
            "\n"
          ]
        }
      ],
      "source": [
        "# Nesta etapa, adicoine código para ler o arquivo nomes_aleatorios.txt através do comando spark.read.csv. \n",
        "# Carregue-o para dentro de um dataframe chamado df_nomes e, por fim, liste algumas linhas através do método show. Exemplo: df_nomes.show(5)\n",
        "\n",
        "spark = SparkSession.builder.master(\"local[*]\").appName(\"Tarefa\").getOrCreate()\n",
        "df_nomes = spark.read.csv('../Tarefa3/nomes_aleatorios.txt')\n",
        "df_nomes.show(5)"
      ]
    },
    {
      "attachments": {},
      "cell_type": "markdown",
      "metadata": {
        "id": "w2u86mqoCL1Q"
      },
      "source": [
        "##### Parte 2 > Renomear coluna, imprimir o schema e mostrar 10 linhas"
      ]
    },
    {
      "cell_type": "code",
      "execution_count": 56,
      "metadata": {
        "id": "8TeMlERyEmmy"
      },
      "outputs": [
        {
          "name": "stdout",
          "output_type": "stream",
          "text": [
            "root\n",
            " |-- Nomes: string (nullable = true)\n",
            "\n",
            "+-----------------+\n",
            "|            Nomes|\n",
            "+-----------------+\n",
            "|   Frances Bennet|\n",
            "|    Jamie Russell|\n",
            "|   Edward Kistler|\n",
            "|    Sheila Maurer|\n",
            "| Donald Golightly|\n",
            "|       David Gray|\n",
            "|      Joy Bennett|\n",
            "|      Paul Kriese|\n",
            "|Berniece Ornellas|\n",
            "|    Brian Farrell|\n",
            "+-----------------+\n",
            "only showing top 10 rows\n",
            "\n"
          ]
        }
      ],
      "source": [
        "df_nomes = df_nomes.withColumnRenamed('_c0', 'Nomes')\n",
        "df_nomes.printSchema()\n",
        "df_nomes.show(10)\n"
      ]
    },
    {
      "attachments": {},
      "cell_type": "markdown",
      "metadata": {
        "id": "kvgYhzzNHQc7"
      },
      "source": [
        "##### Parte 3 > Adicionar nova coluna chamada Escolaridade"
      ]
    },
    {
      "cell_type": "code",
      "execution_count": 57,
      "metadata": {
        "id": "y9iG1U6gQTAd"
      },
      "outputs": [],
      "source": [
        "escolaridade = ['Fundamental', 'Médio', 'Superior']\n",
        "\n",
        "df_nomes = df_nomes.withColumn('Escolaridade', udf(f=lambda: escolaridade[random.randint(0,2)],returnType=StringType())())"
      ]
    },
    {
      "attachments": {},
      "cell_type": "markdown",
      "metadata": {
        "id": "INRyg22WQ3Om"
      },
      "source": [
        "##### Parte 4 > Adicionar países da América do Sul\n"
      ]
    },
    {
      "cell_type": "code",
      "execution_count": 58,
      "metadata": {
        "id": "yiaajaWrRlEZ"
      },
      "outputs": [],
      "source": [
        "paises = [\"Brasil\", \"Argentina\", \"Colômbia\", \"Peru\", \"Venezuela\", \"Chile\", \"Equador\",\n",
        "            \"Bolívia\", \"Paraguai\", \"Uruguai\", \"Guiana\", \"Suriname\", \"Guiana Francesa\"]\n",
        "\n",
        "df_nomes = df_nomes.withColumn('Pais', udf(f=lambda: paises[random.randint(0,12)],returnType=StringType())())"
      ]
    },
    {
      "attachments": {},
      "cell_type": "markdown",
      "metadata": {
        "id": "X1gqbdO2SHpj"
      },
      "source": [
        "##### Parte 5 > Adicione nova coluna chamada AnoNascimento"
      ]
    },
    {
      "cell_type": "code",
      "execution_count": 59,
      "metadata": {
        "id": "VbJglRYCSJG6"
      },
      "outputs": [],
      "source": [
        "df_nomes = df_nomes.withColumn(\"AnoNascimento\", expr(\"CAST(FLOOR(RAND() * (66) + 1945) AS INT)\"))"
      ]
    },
    {
      "attachments": {},
      "cell_type": "markdown",
      "metadata": {
        "id": "HtQllqhuYs1M"
      },
      "source": [
        "##### Parte 6 > Usando o método select do dataframe (df_nomes), selecione as pessoas que nasceram neste século"
      ]
    },
    {
      "cell_type": "code",
      "execution_count": 60,
      "metadata": {
        "id": "r3lZ6k1tYzUU"
      },
      "outputs": [
        {
          "name": "stdout",
          "output_type": "stream",
          "text": [
            "+---------------+------------+---------+-------------+\n",
            "|          Nomes|Escolaridade|     Pais|AnoNascimento|\n",
            "+---------------+------------+---------+-------------+\n",
            "|    Frank Wiley|    Superior| Suriname|         2002|\n",
            "|     Ned Tester| Fundamental|    Chile|         2008|\n",
            "|  George Miller| Fundamental|Argentina|         2009|\n",
            "|  Evelyn Shaver| Fundamental| Paraguai|         2008|\n",
            "|   Ida Randazzo|    Superior|Argentina|         2007|\n",
            "|   Curtis Sutch|    Superior|  Bolívia|         2002|\n",
            "|Pamela Banuelos| Fundamental|     Peru|         2003|\n",
            "|   Douglas Boyd| Fundamental|  Equador|         2010|\n",
            "| Roger Guenther|       Médio|Argentina|         2003|\n",
            "|  Fannie Taylor|       Médio| Paraguai|         2009|\n",
            "+---------------+------------+---------+-------------+\n",
            "only showing top 10 rows\n",
            "\n"
          ]
        }
      ],
      "source": [
        "df_select = df_nomes.select('*').where(df_nomes.AnoNascimento >= 2000)\n",
        "df_select.show(10)"
      ]
    },
    {
      "attachments": {},
      "cell_type": "markdown",
      "metadata": {
        "id": "ZwQtBtjxaqaA"
      },
      "source": [
        "##### Parte 7 > Usando Spark SQL repita o processo da Pergunta 6."
      ]
    },
    {
      "cell_type": "code",
      "execution_count": 61,
      "metadata": {
        "id": "BGLn2Hd4atAP"
      },
      "outputs": [
        {
          "name": "stdout",
          "output_type": "stream",
          "text": [
            "+---------------+------------+---------+-------------+\n",
            "|          Nomes|Escolaridade|     Pais|AnoNascimento|\n",
            "+---------------+------------+---------+-------------+\n",
            "|    Frank Wiley|    Superior|Venezuela|         2002|\n",
            "|     Ned Tester|       Médio|  Equador|         2008|\n",
            "|  George Miller|       Médio|   Brasil|         2009|\n",
            "|  Evelyn Shaver| Fundamental|Venezuela|         2008|\n",
            "|   Ida Randazzo|    Superior|    Chile|         2007|\n",
            "|   Curtis Sutch| Fundamental|  Equador|         2002|\n",
            "|Pamela Banuelos|    Superior| Colômbia|         2003|\n",
            "|   Douglas Boyd|    Superior| Suriname|         2010|\n",
            "| Roger Guenther|       Médio| Paraguai|         2003|\n",
            "|  Fannie Taylor|    Superior| Suriname|         2009|\n",
            "+---------------+------------+---------+-------------+\n",
            "only showing top 10 rows\n",
            "\n"
          ]
        }
      ],
      "source": [
        "df_nomes.createOrReplaceTempView('pessoas')\n",
        "spark.sql('SELECT * FROM pessoas WHERE AnoNascimento >= 2000').show(10)\n"
      ]
    },
    {
      "attachments": {},
      "cell_type": "markdown",
      "metadata": {
        "id": "F6eByPWNcb3a"
      },
      "source": [
        "##### Parte 8 > Conte o número de pessoas que são da geração Millennials\n"
      ]
    },
    {
      "cell_type": "code",
      "execution_count": 62,
      "metadata": {
        "id": "qCHB0iAAcduI"
      },
      "outputs": [
        {
          "name": "stdout",
          "output_type": "stream",
          "text": [
            "2271560\n"
          ]
        }
      ],
      "source": [
        "m = df_nomes.select('*').where(df_nomes.AnoNascimento.between(1980, 1994)).count()\n",
        "print(m)\n"
      ]
    },
    {
      "attachments": {},
      "cell_type": "markdown",
      "metadata": {
        "id": "1IQcjJRwd5Vb"
      },
      "source": [
        "##### Parte 9 > Repita o processo da Pergunta 8 utilizando Spark SQL"
      ]
    },
    {
      "cell_type": "code",
      "execution_count": 63,
      "metadata": {
        "id": "ZQfYHdP2eIe6"
      },
      "outputs": [
        {
          "name": "stdout",
          "output_type": "stream",
          "text": [
            "+--------+\n",
            "|Contagem|\n",
            "+--------+\n",
            "| 2271560|\n",
            "+--------+\n",
            "\n"
          ]
        }
      ],
      "source": [
        "spark.sql('SELECT COUNT(*) as Contagem FROM pessoas WHERE AnoNascimento BETWEEN 1980 AND 1994').show()"
      ]
    },
    {
      "attachments": {},
      "cell_type": "markdown",
      "metadata": {
        "id": "pebam_PTfZli"
      },
      "source": [
        "##### Parte 10 > Obtenha a quantidade de pessoas de cada país para uma das gerações"
      ]
    },
    {
      "cell_type": "code",
      "execution_count": 64,
      "metadata": {
        "id": "LF5Lxx6Ro9Is"
      },
      "outputs": [
        {
          "name": "stderr",
          "output_type": "stream",
          "text": [
            "C:\\Users\\mathe\\AppData\\Local\\Packages\\PythonSoftwareFoundation.Python.3.11_qbz5n2kfra8p0\\LocalCache\\local-packages\\Python311\\site-packages\\pyspark\\sql\\context.py:112: FutureWarning: Deprecated in 3.0.0. Use SparkSession.builder.getOrCreate() instead.\n",
            "  warnings.warn(\n"
          ]
        }
      ],
      "source": [
        "sqlContext = SQLContext(spark)\n",
        "\n",
        "babys = sqlContext.sql(\"SELECT Pais, 'Baby Boomers' AS geracao, count(*) as Quantidade\\\n",
        "                        FROM pessoas\\\n",
        "                        WHERE AnoNascimento BETWEEN 1944 AND 1964\\\n",
        "                        GROUP BY Pais\")\n",
        "\n",
        "ger_x = sqlContext.sql(\"SELECT Pais, 'Geração X' AS geracao, count(*) as Quantidade\\\n",
        "                        FROM pessoas\\\n",
        "                        WHERE AnoNascimento BETWEEN 1965 AND 1979\\\n",
        "                        GROUP BY Pais\")\n",
        "\n",
        "millenials = sqlContext.sql(\"SELECT Pais, 'Millennials' AS geracao, count(*) as Quantidade\\\n",
        "                        FROM pessoas\\\n",
        "                        WHERE AnoNascimento BETWEEN 1980 AND 1994\\\n",
        "                        GROUP BY Pais\")\n",
        "\n",
        "ger_z = sqlContext.sql(\"SELECT Pais, 'Geração Z' AS geracao, count(*) as Quantidade\\\n",
        "                        FROM pessoas\\\n",
        "                        WHERE AnoNascimento BETWEEN 1995 AND 2015\\\n",
        "                        GROUP BY Pais\")"
      ]
    },
    {
      "cell_type": "markdown",
      "metadata": {},
      "source": []
    },
    {
      "cell_type": "code",
      "execution_count": 65,
      "metadata": {},
      "outputs": [],
      "source": [
        "geracoes = [babys, ger_x, millenials, ger_z]\n",
        "geracao_union = reduce(DataFrame.unionAll, geracoes)"
      ]
    },
    {
      "attachments": {},
      "cell_type": "markdown",
      "metadata": {},
      "source": []
    },
    {
      "cell_type": "code",
      "execution_count": 70,
      "metadata": {},
      "outputs": [
        {
          "name": "stdout",
          "output_type": "stream",
          "text": [
            "+---------------+------------+----------+\n",
            "|Pais           |geracao     |Quantidade|\n",
            "+---------------+------------+----------+\n",
            "|Argentina      |Baby Boomers|233121    |\n",
            "|Argentina      |Geração X   |175221    |\n",
            "|Argentina      |Geração Z   |186355    |\n",
            "|Argentina      |Millennials |175157    |\n",
            "|Bolívia        |Baby Boomers|233269    |\n",
            "|Bolívia        |Geração X   |175421    |\n",
            "|Bolívia        |Geração Z   |186300    |\n",
            "|Bolívia        |Millennials |173779    |\n",
            "|Brasil         |Baby Boomers|233564    |\n",
            "|Brasil         |Geração X   |175287    |\n",
            "|Brasil         |Geração Z   |186305    |\n",
            "|Brasil         |Millennials |173993    |\n",
            "|Chile          |Baby Boomers|233356    |\n",
            "|Chile          |Geração X   |174558    |\n",
            "|Chile          |Geração Z   |186484    |\n",
            "|Chile          |Millennials |175157    |\n",
            "|Colômbia       |Baby Boomers|234078    |\n",
            "|Colômbia       |Geração X   |175174    |\n",
            "|Colômbia       |Geração Z   |186555    |\n",
            "|Colômbia       |Millennials |175420    |\n",
            "|Equador        |Baby Boomers|232633    |\n",
            "|Equador        |Geração X   |175308    |\n",
            "|Equador        |Geração Z   |186462    |\n",
            "|Equador        |Millennials |174583    |\n",
            "|Guiana         |Baby Boomers|232897    |\n",
            "|Guiana         |Geração X   |174882    |\n",
            "|Guiana         |Geração Z   |186265    |\n",
            "|Guiana         |Millennials |174900    |\n",
            "|Guiana Francesa|Baby Boomers|233519    |\n",
            "|Guiana Francesa|Geração X   |175100    |\n",
            "|Guiana Francesa|Geração Z   |186482    |\n",
            "|Guiana Francesa|Millennials |174903    |\n",
            "|Paraguai       |Baby Boomers|232868    |\n",
            "|Paraguai       |Geração X   |174662    |\n",
            "|Paraguai       |Geração Z   |186167    |\n",
            "|Paraguai       |Millennials |174903    |\n",
            "|Peru           |Baby Boomers|233106    |\n",
            "|Peru           |Geração X   |174441    |\n",
            "|Peru           |Geração Z   |186502    |\n",
            "|Peru           |Millennials |175189    |\n",
            "|Suriname       |Baby Boomers|233538    |\n",
            "|Suriname       |Geração X   |174504    |\n",
            "|Suriname       |Geração Z   |186154    |\n",
            "|Suriname       |Millennials |173810    |\n",
            "|Uruguai        |Baby Boomers|232605    |\n",
            "|Uruguai        |Geração X   |174978    |\n",
            "|Uruguai        |Geração Z   |186458    |\n",
            "|Uruguai        |Millennials |174662    |\n",
            "|Venezuela      |Baby Boomers|232571    |\n",
            "|Venezuela      |Geração X   |175462    |\n",
            "|Venezuela      |Geração Z   |185828    |\n",
            "|Venezuela      |Millennials |175104    |\n",
            "+---------------+------------+----------+\n",
            "\n"
          ]
        }
      ],
      "source": [
        "geracao_union.orderBy(asc(\"Pais\"),\"Geracao\", asc(\"Quantidade\")).show(geracao_union.count(), False)"
      ]
    },
    {
      "cell_type": "code",
      "execution_count": null,
      "metadata": {},
      "outputs": [],
      "source": []
    }
  ],
  "metadata": {
    "colab": {
      "provenance": []
    },
    "kernelspec": {
      "display_name": "Python 3",
      "name": "python3"
    },
    "language_info": {
      "codemirror_mode": {
        "name": "ipython",
        "version": 3
      },
      "file_extension": ".py",
      "mimetype": "text/x-python",
      "name": "python",
      "nbconvert_exporter": "python",
      "pygments_lexer": "ipython3",
      "version": "3.11.4"
    }
  },
  "nbformat": 4,
  "nbformat_minor": 0
}
