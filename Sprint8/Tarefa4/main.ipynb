{
  "cells": [
    {
      "attachments": {},
      "cell_type": "markdown",
      "metadata": {},
      "source": [
        "> Algumas questões foram alteradas depois do envio na Udemy"
      ]
    },
    {
      "attachments": {},
      "cell_type": "markdown",
      "metadata": {
        "id": "awWPl4O8B-ij"
      },
      "source": [
        "##### Parte 1 > Realizando import's e iniciando pyspark"
      ]
    },
    {
      "cell_type": "code",
      "execution_count": 36,
      "metadata": {
        "id": "XqQCuoDDJt1o"
      },
      "outputs": [],
      "source": [
        "from pyspark.sql import SparkSession\n",
        "from pyspark import SparkContext, SQLContext\n",
        "from pyspark.sql.types import StringType\n",
        "import random\n",
        "from pyspark.sql.functions import *"
      ]
    },
    {
      "cell_type": "code",
      "execution_count": 37,
      "metadata": {
        "id": "qSTTC7qczdG4"
      },
      "outputs": [
        {
          "name": "stdout",
          "output_type": "stream",
          "text": [
            "+----------------+\n",
            "|             _c0|\n",
            "+----------------+\n",
            "|  Frances Bennet|\n",
            "|   Jamie Russell|\n",
            "|  Edward Kistler|\n",
            "|   Sheila Maurer|\n",
            "|Donald Golightly|\n",
            "+----------------+\n",
            "only showing top 5 rows\n",
            "\n"
          ]
        }
      ],
      "source": [
        "# Nesta etapa, adicoine código para ler o arquivo nomes_aleatorios.txt através do comando spark.read.csv. \n",
        "# Carregue-o para dentro de um dataframe chamado df_nomes e, por fim, liste algumas linhas através do método show. Exemplo: df_nomes.show(5)\n",
        "\n",
        "spark = SparkSession.builder.master(\"local[*]\").appName(\"Tarefa\").getOrCreate()\n",
        "df_nomes = spark.read.csv('../Tarefa3/nomes_aleatorios.txt')\n",
        "df_nomes.show(5)"
      ]
    },
    {
      "attachments": {},
      "cell_type": "markdown",
      "metadata": {
        "id": "w2u86mqoCL1Q"
      },
      "source": [
        "##### Parte 2 > Renomear coluna, imprimir o schema e mostrar 10 linhas"
      ]
    },
    {
      "cell_type": "code",
      "execution_count": 38,
      "metadata": {
        "id": "8TeMlERyEmmy"
      },
      "outputs": [
        {
          "name": "stdout",
          "output_type": "stream",
          "text": [
            "root\n",
            " |-- Nomes: string (nullable = true)\n",
            "\n",
            "+-----------------+\n",
            "|            Nomes|\n",
            "+-----------------+\n",
            "|   Frances Bennet|\n",
            "|    Jamie Russell|\n",
            "|   Edward Kistler|\n",
            "|    Sheila Maurer|\n",
            "| Donald Golightly|\n",
            "|       David Gray|\n",
            "|      Joy Bennett|\n",
            "|      Paul Kriese|\n",
            "|Berniece Ornellas|\n",
            "|    Brian Farrell|\n",
            "+-----------------+\n",
            "only showing top 10 rows\n",
            "\n"
          ]
        }
      ],
      "source": [
        "df_nomes = df_nomes.withColumnRenamed('_c0', 'Nomes')\n",
        "df_nomes.printSchema()\n",
        "df_nomes.show(10)\n"
      ]
    },
    {
      "attachments": {},
      "cell_type": "markdown",
      "metadata": {
        "id": "kvgYhzzNHQc7"
      },
      "source": [
        "##### Parte 3 > Adicionar nova coluna chamada Escolaridade"
      ]
    },
    {
      "cell_type": "code",
      "execution_count": 39,
      "metadata": {
        "id": "y9iG1U6gQTAd"
      },
      "outputs": [],
      "source": [
        "escolaridade = ['Fundamental', 'Médio', 'Superior']\n",
        "\n",
        "df_nomes = df_nomes.withColumn('Escolaridade', udf(f=lambda: escolaridade[random.randint(0,2)],returnType=StringType())())"
      ]
    },
    {
      "attachments": {},
      "cell_type": "markdown",
      "metadata": {
        "id": "INRyg22WQ3Om"
      },
      "source": [
        "##### Parte 4 > Adicionar países da América do Sul\n"
      ]
    },
    {
      "cell_type": "code",
      "execution_count": 40,
      "metadata": {
        "id": "yiaajaWrRlEZ"
      },
      "outputs": [],
      "source": [
        "paises = [\"Brasil\", \"Argentina\", \"Colômbia\", \"Peru\", \"Venezuela\", \"Chile\", \"Equador\",\n",
        "            \"Bolívia\", \"Paraguai\", \"Uruguai\", \"Guiana\", \"Suriname\", \"Guiana Francesa\"]\n",
        "\n",
        "df_nomes = df_nomes.withColumn('Pais', udf(f=lambda: paises[random.randint(0,12)],returnType=StringType())())"
      ]
    },
    {
      "attachments": {},
      "cell_type": "markdown",
      "metadata": {
        "id": "X1gqbdO2SHpj"
      },
      "source": [
        "##### Parte 5 > Adicione nova coluna chamada AnoNascimento"
      ]
    },
    {
      "cell_type": "code",
      "execution_count": 41,
      "metadata": {
        "id": "VbJglRYCSJG6"
      },
      "outputs": [],
      "source": [
        "df_nomes = df_nomes.withColumn(\"AnoNascimento\", expr(\"CAST(FLOOR(RAND() * (66) + 1945) AS INT)\"))"
      ]
    },
    {
      "attachments": {},
      "cell_type": "markdown",
      "metadata": {
        "id": "HtQllqhuYs1M"
      },
      "source": [
        "##### Parte 6 > Usando o método select do dataframe (df_nomes), selecione as pessoas que nasceram neste século"
      ]
    },
    {
      "cell_type": "code",
      "execution_count": 42,
      "metadata": {
        "id": "r3lZ6k1tYzUU"
      },
      "outputs": [
        {
          "name": "stdout",
          "output_type": "stream",
          "text": [
            "+-----------------+------------+---------------+-------------+\n",
            "|            Nomes|Escolaridade|           Pais|AnoNascimento|\n",
            "+-----------------+------------+---------------+-------------+\n",
            "|      Joy Bennett| Fundamental|        Uruguai|         2003|\n",
            "|     David Medina| Fundamental|          Chile|         2001|\n",
            "|      Jessie Jean|    Superior|         Brasil|         2004|\n",
            "|    Michael Agnew| Fundamental|        Uruguai|         2001|\n",
            "|   Rosie Lovelady| Fundamental|Guiana Francesa|         2006|\n",
            "|    Milton Dillon|    Superior|      Argentina|         2007|\n",
            "|   Ashley Trosper| Fundamental|        Equador|         2004|\n",
            "|      Rita Walter|    Superior|Guiana Francesa|         2009|\n",
            "|George Fiorentino|    Superior|Guiana Francesa|         2006|\n",
            "|   David Rathbone| Fundamental|       Paraguai|         2001|\n",
            "+-----------------+------------+---------------+-------------+\n",
            "only showing top 10 rows\n",
            "\n"
          ]
        }
      ],
      "source": [
        "df_select = df_nomes.select('*').where(df_nomes.AnoNascimento >= 2000)\n",
        "df_select.show(10)"
      ]
    },
    {
      "attachments": {},
      "cell_type": "markdown",
      "metadata": {
        "id": "ZwQtBtjxaqaA"
      },
      "source": [
        "##### Parte 7 > Usando Spark SQL repita o processo da Pergunta 6."
      ]
    },
    {
      "cell_type": "code",
      "execution_count": 43,
      "metadata": {
        "id": "BGLn2Hd4atAP"
      },
      "outputs": [
        {
          "name": "stdout",
          "output_type": "stream",
          "text": [
            "+-----------------+------------+--------+-------------+\n",
            "|            Nomes|Escolaridade|    Pais|AnoNascimento|\n",
            "+-----------------+------------+--------+-------------+\n",
            "|      Joy Bennett|       Médio| Uruguai|         2003|\n",
            "|     David Medina| Fundamental| Bolívia|         2001|\n",
            "|      Jessie Jean|       Médio|  Brasil|         2004|\n",
            "|    Michael Agnew| Fundamental|  Guiana|         2001|\n",
            "|   Rosie Lovelady|    Superior| Uruguai|         2006|\n",
            "|    Milton Dillon|    Superior| Bolívia|         2007|\n",
            "|   Ashley Trosper| Fundamental| Bolívia|         2004|\n",
            "|      Rita Walter|    Superior|    Peru|         2009|\n",
            "|George Fiorentino|       Médio|Paraguai|         2006|\n",
            "|   David Rathbone|    Superior|   Chile|         2001|\n",
            "+-----------------+------------+--------+-------------+\n",
            "only showing top 10 rows\n",
            "\n"
          ]
        }
      ],
      "source": [
        "df_nomes.createOrReplaceTempView('pessoas')\n",
        "spark.sql('SELECT * FROM pessoas WHERE AnoNascimento >= 2000').show(10)\n"
      ]
    },
    {
      "attachments": {},
      "cell_type": "markdown",
      "metadata": {
        "id": "F6eByPWNcb3a"
      },
      "source": [
        "##### Parte 8 > Conte o número de pessoas que são da geração Millennials\n"
      ]
    },
    {
      "cell_type": "code",
      "execution_count": 44,
      "metadata": {
        "id": "qCHB0iAAcduI"
      },
      "outputs": [
        {
          "name": "stdout",
          "output_type": "stream",
          "text": [
            "2272027\n"
          ]
        }
      ],
      "source": [
        "m = df_nomes.select('*').where(df_nomes.AnoNascimento.between(1980, 1994)).count()\n",
        "print(m)\n"
      ]
    },
    {
      "attachments": {},
      "cell_type": "markdown",
      "metadata": {
        "id": "1IQcjJRwd5Vb"
      },
      "source": [
        "##### Parte 9 > Repita o processo da Pergunta 8 utilizando Spark SQL"
      ]
    },
    {
      "cell_type": "code",
      "execution_count": 45,
      "metadata": {
        "id": "ZQfYHdP2eIe6"
      },
      "outputs": [
        {
          "name": "stdout",
          "output_type": "stream",
          "text": [
            "+--------+\n",
            "|Contagem|\n",
            "+--------+\n",
            "| 2272027|\n",
            "+--------+\n",
            "\n"
          ]
        }
      ],
      "source": [
        "spark.sql('SELECT COUNT(*) as Contagem FROM pessoas WHERE AnoNascimento BETWEEN 1980 AND 1994').show()"
      ]
    },
    {
      "attachments": {},
      "cell_type": "markdown",
      "metadata": {
        "id": "pebam_PTfZli"
      },
      "source": [
        "##### Parte 10 > Obtenha a quantidade de pessoas de cada país para uma das gerações"
      ]
    },
    {
      "cell_type": "code",
      "execution_count": 46,
      "metadata": {
        "id": "LF5Lxx6Ro9Is"
      },
      "outputs": [],
      "source": [
        "sqlContext = SQLContext(spark)\n",
        "\n",
        "babys = sqlContext.sql(\"SELECT Pais, 'Baby Boomers' AS geracao, count(*) as Quantidade\\\n",
        "                        FROM pessoas\\\n",
        "                        WHERE AnoNascimento BETWEEN 1944 AND 1964\\\n",
        "                        GROUP BY Pais\")\n",
        "\n",
        "ger_x = sqlContext.sql(\"SELECT Pais, 'Geração X' AS geracao, count(*) as Quantidade\\\n",
        "                        FROM pessoas\\\n",
        "                        WHERE AnoNascimento BETWEEN 1965 AND 1979\\\n",
        "                        GROUP BY Pais\\\n",
        "                        ORDER BY Pais, Geracao, Quantidade\")\n",
        "\n",
        "millenials = sqlContext.sql(\"SELECT Pais, 'Millennials' AS geracao, count(*) as Quantidade\\\n",
        "                        FROM pessoas\\\n",
        "                        WHERE AnoNascimento BETWEEN 1980 AND 1994\\\n",
        "                        GROUP BY Pais\\\n",
        "                        ORDER BY Pais, Geracao, Quantidade\")\n",
        "\n",
        "ger_z = sqlContext.sql(\"SELECT Pais, 'Geração Z' AS geracao, count(*) as Quantidade\\\n",
        "                        FROM pessoas\\\n",
        "                        WHERE AnoNascimento BETWEEN 1995 AND 2015\\\n",
        "                        GROUP BY Pais\\\n",
        "                        ORDER BY Pais, Geracao, Quantidade\")"
      ]
    },
    {
      "cell_type": "code",
      "execution_count": 47,
      "metadata": {},
      "outputs": [
        {
          "name": "stdout",
          "output_type": "stream",
          "text": [
            "+---------------+------------+----------+\n",
            "|           Pais|     geracao|Quantidade|\n",
            "+---------------+------------+----------+\n",
            "|      Argentina|Baby Boomers|    232697|\n",
            "|        Bolívia|Baby Boomers|    233576|\n",
            "|         Brasil|Baby Boomers|    233128|\n",
            "|          Chile|Baby Boomers|    232986|\n",
            "|       Colômbia|Baby Boomers|    233830|\n",
            "|        Equador|Baby Boomers|    233852|\n",
            "|         Guiana|Baby Boomers|    232434|\n",
            "|Guiana Francesa|Baby Boomers|    232997|\n",
            "|       Paraguai|Baby Boomers|    232409|\n",
            "|           Peru|Baby Boomers|    233617|\n",
            "|       Suriname|Baby Boomers|    233599|\n",
            "|        Uruguai|Baby Boomers|    233436|\n",
            "|      Venezuela|Baby Boomers|    233523|\n",
            "+---------------+------------+----------+\n",
            "\n"
          ]
        }
      ],
      "source": [
        "babys.orderBy(asc(\"Pais\"),\"Geracao\", asc(\"Quantidade\")).show()"
      ]
    },
    {
      "cell_type": "code",
      "execution_count": 48,
      "metadata": {},
      "outputs": [
        {
          "name": "stdout",
          "output_type": "stream",
          "text": [
            "+---------------+---------+----------+\n",
            "|           Pais|  geracao|Quantidade|\n",
            "+---------------+---------+----------+\n",
            "|      Argentina|Geração X|    174321|\n",
            "|        Bolívia|Geração X|    174659|\n",
            "|         Brasil|Geração X|    174572|\n",
            "|          Chile|Geração X|    174274|\n",
            "|       Colômbia|Geração X|    174189|\n",
            "|        Equador|Geração X|    175149|\n",
            "|         Guiana|Geração X|    175015|\n",
            "|Guiana Francesa|Geração X|    174972|\n",
            "|       Paraguai|Geração X|    174542|\n",
            "|           Peru|Geração X|    174469|\n",
            "|       Suriname|Geração X|    175049|\n",
            "|        Uruguai|Geração X|    174464|\n",
            "|      Venezuela|Geração X|    174610|\n",
            "+---------------+---------+----------+\n",
            "\n"
          ]
        }
      ],
      "source": [
        "ger_x.orderBy(asc(\"Pais\"),\"Geracao\", asc(\"Quantidade\")).show()"
      ]
    },
    {
      "cell_type": "code",
      "execution_count": 50,
      "metadata": {},
      "outputs": [
        {
          "name": "stdout",
          "output_type": "stream",
          "text": [
            "+---------------+-----------+----------+\n",
            "|           Pais|    geracao|Quantidade|\n",
            "+---------------+-----------+----------+\n",
            "|      Argentina|Millennials|    175100|\n",
            "|        Bolívia|Millennials|    175190|\n",
            "|         Brasil|Millennials|    174415|\n",
            "|          Chile|Millennials|    174004|\n",
            "|       Colômbia|Millennials|    174388|\n",
            "|        Equador|Millennials|    175131|\n",
            "|         Guiana|Millennials|    175015|\n",
            "|Guiana Francesa|Millennials|    175104|\n",
            "|       Paraguai|Millennials|    174917|\n",
            "|           Peru|Millennials|    174557|\n",
            "|       Suriname|Millennials|    174986|\n",
            "|        Uruguai|Millennials|    174635|\n",
            "|      Venezuela|Millennials|    174585|\n",
            "+---------------+-----------+----------+\n",
            "\n"
          ]
        }
      ],
      "source": [
        "millenials.orderBy(asc(\"Pais\"),\"Geracao\", asc(\"Quantidade\")).show()"
      ]
    },
    {
      "cell_type": "code",
      "execution_count": null,
      "metadata": {},
      "outputs": [
        {
          "name": "stdout",
          "output_type": "stream",
          "text": [
            "+---------------+---------+----------+\n",
            "|           Pais|  geracao|Quantidade|\n",
            "+---------------+---------+----------+\n",
            "|      Argentina|Geração Z|    186139|\n",
            "|        Bolívia|Geração Z|    186381|\n",
            "|         Brasil|Geração Z|    186041|\n",
            "|          Chile|Geração Z|    186457|\n",
            "|       Colômbia|Geração Z|    186738|\n",
            "|        Equador|Geração Z|    185831|\n",
            "|         Guiana|Geração Z|    185929|\n",
            "|Guiana Francesa|Geração Z|    186967|\n",
            "|       Paraguai|Geração Z|    186483|\n",
            "|           Peru|Geração Z|    186311|\n",
            "|       Suriname|Geração Z|    186412|\n",
            "|        Uruguai|Geração Z|    186872|\n",
            "|      Venezuela|Geração Z|    186380|\n",
            "+---------------+---------+----------+\n",
            "\n"
          ]
        }
      ],
      "source": [
        "ger_z.orderBy(asc(\"Pais\"),\"Geracao\", asc(\"Quantidade\")).show()"
      ]
    }
  ],
  "metadata": {
    "colab": {
      "provenance": []
    },
    "kernelspec": {
      "display_name": "Python 3",
      "name": "python3"
    },
    "language_info": {
      "codemirror_mode": {
        "name": "ipython",
        "version": 3
      },
      "file_extension": ".py",
      "mimetype": "text/x-python",
      "name": "python",
      "nbconvert_exporter": "python",
      "pygments_lexer": "ipython3",
      "version": "3.11.4"
    }
  },
  "nbformat": 4,
  "nbformat_minor": 0
}
