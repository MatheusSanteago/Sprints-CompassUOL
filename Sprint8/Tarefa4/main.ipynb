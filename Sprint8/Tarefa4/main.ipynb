{
  "cells": [
    {
      "attachments": {},
      "cell_type": "markdown",
      "metadata": {},
      "source": [
        "> Algumas questões foram alteradas depois do envio na Udemy"
      ]
    },
    {
      "attachments": {},
      "cell_type": "markdown",
      "metadata": {
        "id": "awWPl4O8B-ij"
      },
      "source": [
        "##### Parte 1 > Realizando import's e iniciando pyspark"
      ]
    },
    {
      "cell_type": "code",
      "execution_count": 15,
      "metadata": {
        "id": "XqQCuoDDJt1o"
      },
      "outputs": [],
      "source": [
        "from pyspark.sql import SparkSession\n",
        "from pyspark import SparkContext, SQLContext\n",
        "from pyspark.sql.types import StringType\n",
        "import random\n",
        "from pyspark.sql import DataFrame\n",
        "from pyspark.sql.functions import *\n",
        "from functools import reduce"
      ]
    },
    {
      "cell_type": "code",
      "execution_count": 2,
      "metadata": {
        "id": "qSTTC7qczdG4"
      },
      "outputs": [
        {
          "name": "stdout",
          "output_type": "stream",
          "text": [
            "+----------------+\n",
            "|             _c0|\n",
            "+----------------+\n",
            "|  Frances Bennet|\n",
            "|   Jamie Russell|\n",
            "|  Edward Kistler|\n",
            "|   Sheila Maurer|\n",
            "|Donald Golightly|\n",
            "+----------------+\n",
            "only showing top 5 rows\n",
            "\n"
          ]
        }
      ],
      "source": [
        "# Nesta etapa, adicoine código para ler o arquivo nomes_aleatorios.txt através do comando spark.read.csv. \n",
        "# Carregue-o para dentro de um dataframe chamado df_nomes e, por fim, liste algumas linhas através do método show. Exemplo: df_nomes.show(5)\n",
        "\n",
        "spark = SparkSession.builder.master(\"local[*]\").appName(\"Tarefa\").getOrCreate()\n",
        "df_nomes = spark.read.csv('../Tarefa3/nomes_aleatorios.txt')\n",
        "df_nomes.show(5)"
      ]
    },
    {
      "attachments": {},
      "cell_type": "markdown",
      "metadata": {
        "id": "w2u86mqoCL1Q"
      },
      "source": [
        "##### Parte 2 > Renomear coluna, imprimir o schema e mostrar 10 linhas"
      ]
    },
    {
      "cell_type": "code",
      "execution_count": 3,
      "metadata": {
        "id": "8TeMlERyEmmy"
      },
      "outputs": [
        {
          "name": "stdout",
          "output_type": "stream",
          "text": [
            "root\n",
            " |-- Nomes: string (nullable = true)\n",
            "\n",
            "+-----------------+\n",
            "|            Nomes|\n",
            "+-----------------+\n",
            "|   Frances Bennet|\n",
            "|    Jamie Russell|\n",
            "|   Edward Kistler|\n",
            "|    Sheila Maurer|\n",
            "| Donald Golightly|\n",
            "|       David Gray|\n",
            "|      Joy Bennett|\n",
            "|      Paul Kriese|\n",
            "|Berniece Ornellas|\n",
            "|    Brian Farrell|\n",
            "+-----------------+\n",
            "only showing top 10 rows\n",
            "\n"
          ]
        }
      ],
      "source": [
        "df_nomes = df_nomes.withColumnRenamed('_c0', 'Nomes')\n",
        "df_nomes.printSchema()\n",
        "df_nomes.show(10)\n"
      ]
    },
    {
      "attachments": {},
      "cell_type": "markdown",
      "metadata": {
        "id": "kvgYhzzNHQc7"
      },
      "source": [
        "##### Parte 3 > Adicionar nova coluna chamada Escolaridade"
      ]
    },
    {
      "cell_type": "code",
      "execution_count": 4,
      "metadata": {
        "id": "y9iG1U6gQTAd"
      },
      "outputs": [],
      "source": [
        "escolaridade = ['Fundamental', 'Médio', 'Superior']\n",
        "\n",
        "df_nomes = df_nomes.withColumn('Escolaridade', udf(f=lambda: escolaridade[random.randint(0,2)],returnType=StringType())())"
      ]
    },
    {
      "attachments": {},
      "cell_type": "markdown",
      "metadata": {
        "id": "INRyg22WQ3Om"
      },
      "source": [
        "##### Parte 4 > Adicionar países da América do Sul\n"
      ]
    },
    {
      "cell_type": "code",
      "execution_count": 5,
      "metadata": {
        "id": "yiaajaWrRlEZ"
      },
      "outputs": [],
      "source": [
        "paises = [\"Brasil\", \"Argentina\", \"Colômbia\", \"Peru\", \"Venezuela\", \"Chile\", \"Equador\",\n",
        "            \"Bolívia\", \"Paraguai\", \"Uruguai\", \"Guiana\", \"Suriname\", \"Guiana Francesa\"]\n",
        "\n",
        "df_nomes = df_nomes.withColumn('Pais', udf(f=lambda: paises[random.randint(0,12)],returnType=StringType())())"
      ]
    },
    {
      "attachments": {},
      "cell_type": "markdown",
      "metadata": {
        "id": "X1gqbdO2SHpj"
      },
      "source": [
        "##### Parte 5 > Adicione nova coluna chamada AnoNascimento"
      ]
    },
    {
      "cell_type": "code",
      "execution_count": 6,
      "metadata": {
        "id": "VbJglRYCSJG6"
      },
      "outputs": [],
      "source": [
        "df_nomes = df_nomes.withColumn(\"AnoNascimento\", expr(\"CAST(FLOOR(RAND() * (66) + 1945) AS INT)\"))"
      ]
    },
    {
      "attachments": {},
      "cell_type": "markdown",
      "metadata": {
        "id": "HtQllqhuYs1M"
      },
      "source": [
        "##### Parte 6 > Usando o método select do dataframe (df_nomes), selecione as pessoas que nasceram neste século"
      ]
    },
    {
      "cell_type": "code",
      "execution_count": 7,
      "metadata": {
        "id": "r3lZ6k1tYzUU"
      },
      "outputs": [
        {
          "name": "stdout",
          "output_type": "stream",
          "text": [
            "+----------------+------------+---------------+-------------+\n",
            "|           Nomes|Escolaridade|           Pais|AnoNascimento|\n",
            "+----------------+------------+---------------+-------------+\n",
            "|Donald Golightly|    Superior|      Venezuela|         2009|\n",
            "|   Brian Farrell|       Médio|Guiana Francesa|         2001|\n",
            "|    Leroy Strahl|    Superior|        Equador|         2009|\n",
            "|    Ernest Hulet|       Médio|        Bolívia|         2010|\n",
            "|        Mary Lee| Fundamental|        Equador|         2008|\n",
            "|      Daryl Page|       Médio|         Brasil|         2003|\n",
            "|   Ricky Gilbert|    Superior|       Colômbia|         2002|\n",
            "|Flossie Anderson|       Médio|           Peru|         2004|\n",
            "|  Ashley Trosper| Fundamental|       Colômbia|         2010|\n",
            "|     Milton Rowe| Fundamental|      Argentina|         2003|\n",
            "+----------------+------------+---------------+-------------+\n",
            "only showing top 10 rows\n",
            "\n"
          ]
        }
      ],
      "source": [
        "df_select = df_nomes.select('*').where(df_nomes.AnoNascimento >= 2000)\n",
        "df_select.show(10)"
      ]
    },
    {
      "attachments": {},
      "cell_type": "markdown",
      "metadata": {
        "id": "ZwQtBtjxaqaA"
      },
      "source": [
        "##### Parte 7 > Usando Spark SQL repita o processo da Pergunta 6."
      ]
    },
    {
      "cell_type": "code",
      "execution_count": 8,
      "metadata": {
        "id": "BGLn2Hd4atAP"
      },
      "outputs": [
        {
          "name": "stdout",
          "output_type": "stream",
          "text": [
            "+----------------+------------+---------------+-------------+\n",
            "|           Nomes|Escolaridade|           Pais|AnoNascimento|\n",
            "+----------------+------------+---------------+-------------+\n",
            "|Donald Golightly|       Médio|Guiana Francesa|         2009|\n",
            "|   Brian Farrell| Fundamental|        Uruguai|         2001|\n",
            "|    Leroy Strahl|       Médio|       Paraguai|         2009|\n",
            "|    Ernest Hulet|       Médio|         Brasil|         2010|\n",
            "|        Mary Lee| Fundamental|      Argentina|         2008|\n",
            "|      Daryl Page|       Médio|      Venezuela|         2003|\n",
            "|   Ricky Gilbert| Fundamental|        Equador|         2002|\n",
            "|Flossie Anderson| Fundamental|Guiana Francesa|         2004|\n",
            "|  Ashley Trosper|       Médio|          Chile|         2010|\n",
            "|     Milton Rowe|    Superior|        Uruguai|         2003|\n",
            "+----------------+------------+---------------+-------------+\n",
            "only showing top 10 rows\n",
            "\n"
          ]
        }
      ],
      "source": [
        "df_nomes.createOrReplaceTempView('pessoas')\n",
        "spark.sql('SELECT * FROM pessoas WHERE AnoNascimento >= 2000').show(10)\n"
      ]
    },
    {
      "attachments": {},
      "cell_type": "markdown",
      "metadata": {
        "id": "F6eByPWNcb3a"
      },
      "source": [
        "##### Parte 8 > Conte o número de pessoas que são da geração Millennials\n"
      ]
    },
    {
      "cell_type": "code",
      "execution_count": 9,
      "metadata": {
        "id": "qCHB0iAAcduI"
      },
      "outputs": [
        {
          "name": "stdout",
          "output_type": "stream",
          "text": [
            "2272990\n"
          ]
        }
      ],
      "source": [
        "m = df_nomes.select('*').where(df_nomes.AnoNascimento.between(1980, 1994)).count()\n",
        "print(m)\n"
      ]
    },
    {
      "attachments": {},
      "cell_type": "markdown",
      "metadata": {
        "id": "1IQcjJRwd5Vb"
      },
      "source": [
        "##### Parte 9 > Repita o processo da Pergunta 8 utilizando Spark SQL"
      ]
    },
    {
      "cell_type": "code",
      "execution_count": 10,
      "metadata": {
        "id": "ZQfYHdP2eIe6"
      },
      "outputs": [
        {
          "name": "stdout",
          "output_type": "stream",
          "text": [
            "+--------+\n",
            "|Contagem|\n",
            "+--------+\n",
            "| 2272990|\n",
            "+--------+\n",
            "\n"
          ]
        }
      ],
      "source": [
        "spark.sql('SELECT COUNT(*) as Contagem FROM pessoas WHERE AnoNascimento BETWEEN 1980 AND 1994').show()"
      ]
    },
    {
      "attachments": {},
      "cell_type": "markdown",
      "metadata": {
        "id": "pebam_PTfZli"
      },
      "source": [
        "##### Parte 10 > Obtenha a quantidade de pessoas de cada país para uma das gerações"
      ]
    },
    {
      "cell_type": "code",
      "execution_count": 11,
      "metadata": {
        "id": "LF5Lxx6Ro9Is"
      },
      "outputs": [
        {
          "name": "stderr",
          "output_type": "stream",
          "text": [
            "C:\\Users\\mathe\\AppData\\Local\\Packages\\PythonSoftwareFoundation.Python.3.11_qbz5n2kfra8p0\\LocalCache\\local-packages\\Python311\\site-packages\\pyspark\\sql\\context.py:112: FutureWarning: Deprecated in 3.0.0. Use SparkSession.builder.getOrCreate() instead.\n",
            "  warnings.warn(\n"
          ]
        }
      ],
      "source": [
        "sqlContext = SQLContext(spark)\n",
        "\n",
        "babys = sqlContext.sql(\"SELECT Pais, 'Baby Boomers' AS geracao, count(*) as Quantidade\\\n",
        "                        FROM pessoas\\\n",
        "                        WHERE AnoNascimento BETWEEN 1944 AND 1964\\\n",
        "                        GROUP BY Pais\")\n",
        "\n",
        "ger_x = sqlContext.sql(\"SELECT Pais, 'Geração X' AS geracao, count(*) as Quantidade\\\n",
        "                        FROM pessoas\\\n",
        "                        WHERE AnoNascimento BETWEEN 1965 AND 1979\\\n",
        "                        GROUP BY Pais\")\n",
        "\n",
        "millenials = sqlContext.sql(\"SELECT Pais, 'Millennials' AS geracao, count(*) as Quantidade\\\n",
        "                        FROM pessoas\\\n",
        "                        WHERE AnoNascimento BETWEEN 1980 AND 1994\\\n",
        "                        GROUP BY Pais\")\n",
        "\n",
        "ger_z = sqlContext.sql(\"SELECT Pais, 'Geração Z' AS geracao, count(*) as Quantidade\\\n",
        "                        FROM pessoas\\\n",
        "                        WHERE AnoNascimento BETWEEN 1995 AND 2015\\\n",
        "                        GROUP BY Pais\")"
      ]
    },
    {
      "cell_type": "code",
      "execution_count": 12,
      "metadata": {},
      "outputs": [],
      "source": [
        "geracoes = [babys, ger_x, millenials, ger_z]\n",
        "geracao_union = reduce(DataFrame.unionAll, geracoes)"
      ]
    },
    {
      "attachments": {},
      "cell_type": "markdown",
      "metadata": {},
      "source": []
    },
    {
      "cell_type": "code",
      "execution_count": 21,
      "metadata": {},
      "outputs": [
        {
          "name": "stdout",
          "output_type": "stream",
          "text": [
            "+---------------+------------+----------+\n",
            "|Pais           |geracao     |Quantidade|\n",
            "+---------------+------------+----------+\n",
            "|Argentina      |Baby Boomers|233723    |\n",
            "|Argentina      |Geração X   |174004    |\n",
            "|Argentina      |Geração Z   |187347    |\n",
            "|Argentina      |Millennials |174264    |\n",
            "|Bolívia        |Baby Boomers|232410    |\n",
            "|Bolívia        |Geração X   |174781    |\n",
            "|Bolívia        |Geração Z   |186241    |\n",
            "|Bolívia        |Millennials |174456    |\n",
            "|Brasil         |Baby Boomers|233363    |\n",
            "|Brasil         |Geração X   |174760    |\n",
            "|Brasil         |Geração Z   |187128    |\n",
            "|Brasil         |Millennials |175269    |\n",
            "|Chile          |Baby Boomers|233180    |\n",
            "|Chile          |Geração X   |174723    |\n",
            "|Chile          |Geração Z   |186519    |\n",
            "|Chile          |Millennials |174811    |\n",
            "|Colômbia       |Baby Boomers|232813    |\n",
            "|Colômbia       |Geração X   |175041    |\n",
            "|Colômbia       |Geração Z   |186926    |\n",
            "|Colômbia       |Millennials |175110    |\n",
            "|Equador        |Baby Boomers|232970    |\n",
            "|Equador        |Geração X   |174954    |\n",
            "|Equador        |Geração Z   |186418    |\n",
            "|Equador        |Millennials |175201    |\n",
            "|Guiana         |Baby Boomers|232866    |\n",
            "|Guiana         |Geração X   |175063    |\n",
            "|Guiana         |Geração Z   |187361    |\n",
            "|Guiana         |Millennials |175180    |\n",
            "|Guiana Francesa|Baby Boomers|233408    |\n",
            "|Guiana Francesa|Geração X   |175211    |\n",
            "|Guiana Francesa|Geração Z   |185807    |\n",
            "|Guiana Francesa|Millennials |175072    |\n",
            "|Paraguai       |Baby Boomers|232960    |\n",
            "|Paraguai       |Geração X   |174500    |\n",
            "|Paraguai       |Geração Z   |186409    |\n",
            "|Paraguai       |Millennials |174796    |\n",
            "|Peru           |Baby Boomers|233050    |\n",
            "|Peru           |Geração X   |173992    |\n",
            "|Peru           |Geração Z   |186908    |\n",
            "|Peru           |Millennials |175495    |\n",
            "|Suriname       |Baby Boomers|232633    |\n",
            "|Suriname       |Geração X   |174586    |\n",
            "|Suriname       |Geração Z   |186695    |\n",
            "|Suriname       |Millennials |174461    |\n",
            "|Uruguai        |Baby Boomers|233363    |\n",
            "|Uruguai        |Geração X   |174562    |\n",
            "|Uruguai        |Geração Z   |186303    |\n",
            "|Uruguai        |Millennials |174580    |\n",
            "|Venezuela      |Baby Boomers|233036    |\n",
            "|Venezuela      |Geração X   |174695    |\n",
            "|Venezuela      |Geração Z   |186301    |\n",
            "|Venezuela      |Millennials |174295    |\n",
            "+---------------+------------+----------+\n",
            "\n"
          ]
        }
      ],
      "source": [
        "geracao_union.orderBy(asc(\"Pais\"),\"Geracao\", asc(\"Quantidade\")).show(geracao_union.count(), False)"
      ]
    },
    {
      "cell_type": "code",
      "execution_count": null,
      "metadata": {},
      "outputs": [],
      "source": []
    }
  ],
  "metadata": {
    "colab": {
      "provenance": []
    },
    "kernelspec": {
      "display_name": "Python 3",
      "name": "python3"
    },
    "language_info": {
      "codemirror_mode": {
        "name": "ipython",
        "version": 3
      },
      "file_extension": ".py",
      "mimetype": "text/x-python",
      "name": "python",
      "nbconvert_exporter": "python",
      "pygments_lexer": "ipython3",
      "version": "3.11.4"
    }
  },
  "nbformat": 4,
  "nbformat_minor": 0
}
