{
  "cells": [
    {
      "attachments": {},
      "cell_type": "markdown",
      "metadata": {
        "id": "awWPl4O8B-ij"
      },
      "source": [
        "##### Parte 1 > Realizando import's e iniciando pyspark"
      ]
    },
    {
      "cell_type": "code",
      "execution_count": 9,
      "metadata": {
        "id": "XqQCuoDDJt1o"
      },
      "outputs": [],
      "source": [
        "from pyspark.sql import SparkSession\n",
        "from pyspark import SparkContext, SQLContext\n",
        "from pyspark.sql.types import StringType\n",
        "import random\n",
        "from pyspark.sql.functions import *"
      ]
    },
    {
      "cell_type": "code",
      "execution_count": 6,
      "metadata": {
        "id": "qSTTC7qczdG4"
      },
      "outputs": [
        {
          "name": "stdout",
          "output_type": "stream",
          "text": [
            "+----------------+\n",
            "|             _c0|\n",
            "+----------------+\n",
            "|  Frances Bennet|\n",
            "|   Jamie Russell|\n",
            "|  Edward Kistler|\n",
            "|   Sheila Maurer|\n",
            "|Donald Golightly|\n",
            "+----------------+\n",
            "only showing top 5 rows\n",
            "\n"
          ]
        }
      ],
      "source": [
        "# Nesta etapa, adicoine código para ler o arquivo nomes_aleatorios.txt através do comando spark.read.csv. \n",
        "# Carregue-o para dentro de um dataframe chamado df_nomes e, por fim, liste algumas linhas através do método show. Exemplo: df_nomes.show(5)\n",
        "\n",
        "spark = SparkSession.builder.master(\"local[*]\").appName(\"Tarefa\").getOrCreate()\n",
        "df_nomes = spark.read.csv('../Tarefa3/nomes_aleatorios.txt')\n",
        "df_nomes.show(5)"
      ]
    },
    {
      "attachments": {},
      "cell_type": "markdown",
      "metadata": {
        "id": "w2u86mqoCL1Q"
      },
      "source": [
        "##### Parte 2 > Renomear coluna, imprimir o schema e mostrar 10 linhas"
      ]
    },
    {
      "cell_type": "code",
      "execution_count": 8,
      "metadata": {
        "id": "8TeMlERyEmmy"
      },
      "outputs": [
        {
          "name": "stdout",
          "output_type": "stream",
          "text": [
            "root\n",
            " |-- Nomes: string (nullable = true)\n",
            "\n",
            "+-----------------+\n",
            "|            Nomes|\n",
            "+-----------------+\n",
            "|   Frances Bennet|\n",
            "|    Jamie Russell|\n",
            "|   Edward Kistler|\n",
            "|    Sheila Maurer|\n",
            "| Donald Golightly|\n",
            "|       David Gray|\n",
            "|      Joy Bennett|\n",
            "|      Paul Kriese|\n",
            "|Berniece Ornellas|\n",
            "|    Brian Farrell|\n",
            "+-----------------+\n",
            "only showing top 10 rows\n",
            "\n"
          ]
        }
      ],
      "source": [
        "df_nomes = df_nomes.withColumnRenamed('_c0', 'Nomes')\n",
        "df_nomes.printSchema()\n",
        "df_nomes.show(10)\n"
      ]
    },
    {
      "attachments": {},
      "cell_type": "markdown",
      "metadata": {
        "id": "kvgYhzzNHQc7"
      },
      "source": [
        "##### Parte 3 > Adicionar nova coluna chamada Escolaridade"
      ]
    },
    {
      "cell_type": "code",
      "execution_count": 18,
      "metadata": {
        "id": "y9iG1U6gQTAd"
      },
      "outputs": [],
      "source": [
        "escolaridade = ['Fundamental', 'Médio', 'Superior']\n",
        "\n",
        "df_nomes = df_nomes.withColumn('Escolaridade', udf(f=lambda: escolaridade[random.randint(0,2)],returnType=StringType())())"
      ]
    },
    {
      "attachments": {},
      "cell_type": "markdown",
      "metadata": {
        "id": "INRyg22WQ3Om"
      },
      "source": [
        "##### Parte 4 > Adicionar países da América do Sul\n"
      ]
    },
    {
      "cell_type": "code",
      "execution_count": 20,
      "metadata": {
        "id": "yiaajaWrRlEZ"
      },
      "outputs": [],
      "source": [
        "paises = [\"Brasil\", \"Argentina\", \"Colômbia\", \"Peru\", \"Venezuela\", \"Chile\", \"Equador\",\n",
        "            \"Bolívia\", \"Paraguai\", \"Uruguai\", \"Guiana\", \"Suriname\", \"Guiana Francesa\"]\n",
        "\n",
        "df_nomes = df_nomes.withColumn('Pais', udf(f=lambda: paises[random.randint(0,12)],returnType=StringType())())"
      ]
    },
    {
      "attachments": {},
      "cell_type": "markdown",
      "metadata": {
        "id": "X1gqbdO2SHpj"
      },
      "source": [
        "##### Parte 5 > Adicione nova coluna chamada AnoNascimento"
      ]
    },
    {
      "cell_type": "code",
      "execution_count": 26,
      "metadata": {
        "id": "VbJglRYCSJG6"
      },
      "outputs": [],
      "source": [
        "df_nomes = df_nomes.withColumn(\"AnoNascimento\", expr(\"CAST(FLOOR(RAND() * (66) + 1945) AS INT)\"))"
      ]
    },
    {
      "attachments": {},
      "cell_type": "markdown",
      "metadata": {
        "id": "HtQllqhuYs1M"
      },
      "source": [
        "##### Parte 6 > Usando o método select do dataframe (df_nomes), selecione as pessoas que nasceram neste século"
      ]
    },
    {
      "cell_type": "code",
      "execution_count": 27,
      "metadata": {
        "id": "r3lZ6k1tYzUU"
      },
      "outputs": [
        {
          "name": "stdout",
          "output_type": "stream",
          "text": [
            "+-----------------+------------+---------------+-------------+\n",
            "|            Nomes|Escolaridade|           Pais|AnoNascimento|\n",
            "+-----------------+------------+---------------+-------------+\n",
            "|   Frances Bennet|       Médio|Guiana Francesa|         2003|\n",
            "|Berniece Ornellas|    Superior|        Equador|         2002|\n",
            "|   Kara Mcelwaine| Fundamental|           Peru|         2010|\n",
            "|     Charles Hill|       Médio|       Suriname|         2008|\n",
            "|         Mary Lee| Fundamental|         Brasil|         2008|\n",
            "| Flossie Anderson| Fundamental|      Venezuela|         2005|\n",
            "|    Milton Dillon|    Superior|        Equador|         2000|\n",
            "|     James Barton| Fundamental|       Colômbia|         2008|\n",
            "|   Ashley Trosper| Fundamental|       Paraguai|         2008|\n",
            "|       April Ward|       Médio|       Colômbia|         2010|\n",
            "+-----------------+------------+---------------+-------------+\n",
            "only showing top 10 rows\n",
            "\n"
          ]
        }
      ],
      "source": [
        "df_select = df_nomes.select('*').where(df_nomes.AnoNascimento >= 2000)\n",
        "df_select.show(10)"
      ]
    },
    {
      "attachments": {},
      "cell_type": "markdown",
      "metadata": {
        "id": "ZwQtBtjxaqaA"
      },
      "source": [
        "##### Parte 7 > Usando Spark SQL repita o processo da Pergunta 6."
      ]
    },
    {
      "cell_type": "code",
      "execution_count": 29,
      "metadata": {
        "id": "BGLn2Hd4atAP"
      },
      "outputs": [
        {
          "name": "stdout",
          "output_type": "stream",
          "text": [
            "+-----------------+------------+---------------+-------------+\n",
            "|            Nomes|Escolaridade|           Pais|AnoNascimento|\n",
            "+-----------------+------------+---------------+-------------+\n",
            "|   Frances Bennet|    Superior|        Uruguai|         2003|\n",
            "|Berniece Ornellas|    Superior|        Bolívia|         2002|\n",
            "|   Kara Mcelwaine|       Médio|      Venezuela|         2010|\n",
            "|     Charles Hill|    Superior|          Chile|         2008|\n",
            "|         Mary Lee|       Médio|Guiana Francesa|         2008|\n",
            "| Flossie Anderson|       Médio|       Suriname|         2005|\n",
            "|    Milton Dillon| Fundamental|        Bolívia|         2000|\n",
            "|     James Barton| Fundamental|       Colômbia|         2008|\n",
            "|   Ashley Trosper|    Superior|        Equador|         2008|\n",
            "|       April Ward|    Superior|      Argentina|         2010|\n",
            "+-----------------+------------+---------------+-------------+\n",
            "only showing top 10 rows\n",
            "\n"
          ]
        }
      ],
      "source": [
        "df_nomes.createOrReplaceTempView('pessoas')\n",
        "spark.sql('SELECT * FROM pessoas WHERE AnoNascimento >= 2000').show(10)\n"
      ]
    },
    {
      "attachments": {},
      "cell_type": "markdown",
      "metadata": {
        "id": "F6eByPWNcb3a"
      },
      "source": [
        "##### Parte 8 > Conte o número de pessoas que são da geração Millennials\n"
      ]
    },
    {
      "cell_type": "code",
      "execution_count": 30,
      "metadata": {
        "id": "qCHB0iAAcduI"
      },
      "outputs": [
        {
          "name": "stdout",
          "output_type": "stream",
          "text": [
            "2272548\n"
          ]
        }
      ],
      "source": [
        "m = df_nomes.select('*').where(df_nomes.AnoNascimento.between(1980, 1994)).count()\n",
        "print(m)\n"
      ]
    },
    {
      "attachments": {},
      "cell_type": "markdown",
      "metadata": {
        "id": "1IQcjJRwd5Vb"
      },
      "source": [
        "##### Parte 9 > Repita o processo da Pergunta 8 utilizando Spark SQL"
      ]
    },
    {
      "cell_type": "code",
      "execution_count": 32,
      "metadata": {
        "id": "ZQfYHdP2eIe6"
      },
      "outputs": [
        {
          "name": "stdout",
          "output_type": "stream",
          "text": [
            "+--------+\n",
            "|Contagem|\n",
            "+--------+\n",
            "| 2272548|\n",
            "+--------+\n",
            "\n"
          ]
        }
      ],
      "source": [
        "spark.sql('SELECT COUNT(*) as Contagem FROM pessoas WHERE AnoNascimento BETWEEN 1980 AND 1994').show()"
      ]
    },
    {
      "attachments": {},
      "cell_type": "markdown",
      "metadata": {
        "id": "pebam_PTfZli"
      },
      "source": [
        "##### Parte 10 > Obtenha a quantidade de pessoas de cada país para uma das gerações"
      ]
    },
    {
      "cell_type": "code",
      "execution_count": 35,
      "metadata": {
        "id": "LF5Lxx6Ro9Is"
      },
      "outputs": [
        {
          "name": "stdout",
          "output_type": "stream",
          "text": [
            "+---------------+------------+----------+\n",
            "|           Pais|     geracao|Quantidade|\n",
            "+---------------+------------+----------+\n",
            "|      Argentina|Baby Boomers|    233226|\n",
            "|        Bolívia|Baby Boomers|    233545|\n",
            "|         Brasil|Baby Boomers|    233038|\n",
            "|          Chile|Baby Boomers|    232761|\n",
            "|       Colômbia|Baby Boomers|    232683|\n",
            "|        Equador|Baby Boomers|    232941|\n",
            "|         Guiana|Baby Boomers|    232991|\n",
            "|Guiana Francesa|Baby Boomers|    233901|\n",
            "|       Paraguai|Baby Boomers|    233619|\n",
            "|           Peru|Baby Boomers|    233205|\n",
            "|       Suriname|Baby Boomers|    233042|\n",
            "|        Uruguai|Baby Boomers|    232501|\n",
            "|      Venezuela|Baby Boomers|    232429|\n",
            "+---------------+------------+----------+\n",
            "\n"
          ]
        }
      ],
      "source": [
        "Geracao_Z = spark.sql(\"SELECT Pais, 'Baby Boomers' AS geracao, count(*) as Quantidade\\\n",
        "                        FROM pessoas\\\n",
        "                        WHERE AnoNascimento BETWEEN 1944 AND 1964\\\n",
        "                        GROUP BY Pais\\\n",
        "                        ORDER BY Pais, Geracao, Quantidade\").show()"
      ]
    }
  ],
  "metadata": {
    "colab": {
      "provenance": []
    },
    "kernelspec": {
      "display_name": "Python 3",
      "name": "python3"
    },
    "language_info": {
      "codemirror_mode": {
        "name": "ipython",
        "version": 3
      },
      "file_extension": ".py",
      "mimetype": "text/x-python",
      "name": "python",
      "nbconvert_exporter": "python",
      "pygments_lexer": "ipython3",
      "version": "3.11.4"
    }
  },
  "nbformat": 4,
  "nbformat_minor": 0
}
