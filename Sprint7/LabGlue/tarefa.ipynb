{
 "cells": [
  {
   "cell_type": "code",
   "execution_count": 1,
   "metadata": {},
   "outputs": [],
   "source": [
    "from pyspark.sql import SparkSession\n",
    "spark = SparkSession.builder.getOrCreate()"
   ]
  },
  {
   "cell_type": "code",
   "execution_count": 2,
   "metadata": {},
   "outputs": [],
   "source": [
    "from pyspark.sql.functions import *"
   ]
  },
  {
   "cell_type": "code",
   "execution_count": 3,
   "metadata": {},
   "outputs": [],
   "source": [
    "# Ler os arquivos\n",
    "\n",
    "df = spark.read.format(\"csv\").option(\"header\",\"true\").load(\"./nomes.csv\")\n",
    "\n",
    "# Na AWS utilizando o GlueContext\n",
    "\n",
    "df_dynamic = glueContext.create_dynamic_frame.from_options(\n",
    "    \"s3\",\n",
    "    {\n",
    "        \"paths\": [\n",
    "            source_file\n",
    "        ]\n",
    "    },\n",
    "    \"csv\",\n",
    "    {\"withHeader\": True, \"separator\": \",\"},\n",
    "\n",
    ")"
   ]
  },
  {
   "cell_type": "code",
   "execution_count": 4,
   "metadata": {},
   "outputs": [
    {
     "data": {
      "text/plain": [
       "StructType([StructField('nome', StringType(), True), StructField('sexo', StringType(), True), StructField('total', StringType(), True), StructField('ano', StringType(), True)])"
      ]
     },
     "execution_count": 4,
     "metadata": {},
     "output_type": "execute_result"
    }
   ],
   "source": [
    "# Imprima o schema do dataframe gerado no passo anterior.\n",
    "df.schema"
   ]
  },
  {
   "cell_type": "code",
   "execution_count": 5,
   "metadata": {},
   "outputs": [],
   "source": [
    "# Escrever o código necessário para alterar a caixa dos valores da coluna nome para MAIÚSCULO.\n",
    "\n",
    "df_upper = df.withColumn('nome', upper('nome'))\n",
    "\n",
    "# Na AWS \n",
    "def uppercase(rec):\n",
    "    rec[\"nome\"] = rec[\"nome\"].upper()\n",
    "    return rec\n",
    "\n",
    "df = Map.apply(frame=df_dynamic, f=uppercase)"
   ]
  },
  {
   "cell_type": "code",
   "execution_count": 6,
   "metadata": {},
   "outputs": [
    {
     "data": {
      "text/plain": [
       "1825433"
      ]
     },
     "execution_count": 6,
     "metadata": {},
     "output_type": "execute_result"
    }
   ],
   "source": [
    "# Imprimir a contagem de linhas presentes no dataframe.\n",
    "\n",
    "df.count()"
   ]
  },
  {
   "cell_type": "code",
   "execution_count": 7,
   "metadata": {},
   "outputs": [
    {
     "name": "stdout",
     "output_type": "stream",
     "text": [
      "+----+----+--------+\n",
      "| ano|sexo|Contagem|\n",
      "+----+----+--------+\n",
      "|2014|   F|   19067|\n",
      "|2014|   M|   13977|\n",
      "|2013|   F|   19191|\n",
      "|2013|   M|   14012|\n",
      "|2012|   F|   19468|\n",
      "|2012|   M|   14216|\n",
      "|2011|   F|   19540|\n",
      "|2011|   M|   14329|\n",
      "|2010|   M|   14241|\n",
      "|2010|   F|   19800|\n",
      "|2009|   F|   20165|\n",
      "|2009|   M|   14519|\n",
      "|2008|   M|   14606|\n",
      "|2008|   F|   20439|\n",
      "|2007|   M|   14383|\n",
      "|2007|   F|   20548|\n",
      "|2006|   F|   20043|\n",
      "|2006|   M|   14026|\n",
      "|2005|   F|   19175|\n",
      "|2005|   M|   13358|\n",
      "+----+----+--------+\n",
      "only showing top 20 rows\n",
      "\n"
     ]
    }
   ],
   "source": [
    "# Imprimir a contagem de nomes, agrupando os dados do dataframe pelas colunas ano e sexo.\n",
    "# Ordene os dados de modo que o ano mais recente apareça como primeiro registro do dataframe.\n",
    "\n",
    "df.groupBy('ano', 'sexo').agg(count('*').alias('Contagem')).orderBy(desc('ano')).show()"
   ]
  },
  {
   "cell_type": "code",
   "execution_count": 8,
   "metadata": {},
   "outputs": [
    {
     "name": "stdout",
     "output_type": "stream",
     "text": [
      "+-----+----+---------+\n",
      "| nome| ano|Registros|\n",
      "+-----+----+---------+\n",
      "|Linda|1947|  99680.0|\n",
      "+-----+----+---------+\n",
      "\n"
     ]
    }
   ],
   "source": [
    "# Apresentar qual foi o nome feminino com mais registros e em que ano ocorreu.\n",
    "\n",
    "df.filter(df.sexo == 'F').groupBy(df.nome, df.ano).agg(sum(df.total).alias('Registros')).orderBy(desc('Registros')).limit(1).show()"
   ]
  },
  {
   "cell_type": "code",
   "execution_count": 9,
   "metadata": {},
   "outputs": [
    {
     "name": "stdout",
     "output_type": "stream",
     "text": [
      "+-----+----+---------+\n",
      "| nome| ano|Registros|\n",
      "+-----+----+---------+\n",
      "|James|1947|  94755.0|\n",
      "+-----+----+---------+\n",
      "\n"
     ]
    }
   ],
   "source": [
    "# Apresentar qual foi o nome masculino com mais registros e em que ano ocorreu.\n",
    "df.filter(df.sexo == 'M').groupBy(df.nome, df.ano).agg(sum(df.total).alias('Registros')).orderBy(desc('Registros')).limit(1).show()"
   ]
  },
  {
   "cell_type": "code",
   "execution_count": 10,
   "metadata": {},
   "outputs": [
    {
     "name": "stdout",
     "output_type": "stream",
     "text": [
      "+----+----+---------+\n",
      "| ano|sexo|Registros|\n",
      "+----+----+---------+\n",
      "|1880|   M| 110491.0|\n",
      "|1880|   F|  90993.0|\n",
      "|1881|   M| 100745.0|\n",
      "|1881|   F|  91954.0|\n",
      "|1882|   M| 113688.0|\n",
      "|1882|   F| 107850.0|\n",
      "|1883|   M| 104629.0|\n",
      "|1883|   F| 112321.0|\n",
      "|1884|   M| 114445.0|\n",
      "|1884|   F| 129022.0|\n",
      "+----+----+---------+\n",
      "\n"
     ]
    }
   ],
   "source": [
    "# Apresentar o total de registros (masculinos e femininos) para cada ano presente no dataframe.\n",
    "# Considere apenas as primeiras 10 linhas, ordenadas pelo ano, de forma crescente.\n",
    "\n",
    "df.groupBy(df.ano, df.sexo).agg(sum(df.total).alias('Registros')).orderBy(asc('ano')).limit(10).show()\n"
   ]
  },
  {
   "cell_type": "code",
   "execution_count": 12,
   "metadata": {},
   "outputs": [
    {
     "data": {
      "text/plain": [
       "<pyspark.sql.readwriter.DataFrameWriter at 0x7f3b3040afd0>"
      ]
     },
     "execution_count": 12,
     "metadata": {},
     "output_type": "execute_result"
    }
   ],
   "source": [
    "# Particionar no S3\n",
    "\n",
    "df.write.option(\"header\", True) \\\n",
    "        .partitionBy(\"sexo\", \"ano\") \\\n",
    "        .mode(\"overwrite\") \\\n",
    "        .json(target_path)"
   ]
  }
 ],
 "metadata": {
  "kernelspec": {
   "display_name": "Python 3",
   "language": "python",
   "name": "python3"
  },
  "language_info": {
   "codemirror_mode": {
    "name": "ipython",
    "version": 3
   },
   "file_extension": ".py",
   "mimetype": "text/x-python",
   "name": "python",
   "nbconvert_exporter": "python",
   "pygments_lexer": "ipython3",
   "version": "3.11.4"
  },
  "orig_nbformat": 4
 },
 "nbformat": 4,
 "nbformat_minor": 2
}
