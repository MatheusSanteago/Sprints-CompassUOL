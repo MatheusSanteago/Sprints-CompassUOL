{
  "cells": [
    {
      "cell_type": "code",
      "execution_count": 4,
      "metadata": {
        "id": "sn_xFQlx_VMe"
      },
      "outputs": [],
      "source": [
        "import pandas as pd\n",
        "import numpy as np"
      ]
    },
    {
      "cell_type": "code",
      "execution_count": 6,
      "metadata": {
        "id": "TCc02rjg_1l9"
      },
      "outputs": [],
      "source": [
        "actors = pd.read_csv(\"./actors.csv\")"
      ]
    },
    {
      "cell_type": "code",
      "execution_count": 7,
      "metadata": {
        "colab": {
          "base_uri": "https://localhost:8080/",
          "height": 143
        },
        "id": "dbqmu-10_9r6",
        "outputId": "3b5f1417-a646-4065-dac8-31dceeada6d4"
      },
      "outputs": [
        {
          "data": {
            "text/html": [
              "<div>\n",
              "<style scoped>\n",
              "    .dataframe tbody tr th:only-of-type {\n",
              "        vertical-align: middle;\n",
              "    }\n",
              "\n",
              "    .dataframe tbody tr th {\n",
              "        vertical-align: top;\n",
              "    }\n",
              "\n",
              "    .dataframe thead th {\n",
              "        text-align: right;\n",
              "    }\n",
              "</style>\n",
              "<table border=\"1\" class=\"dataframe\">\n",
              "  <thead>\n",
              "    <tr style=\"text-align: right;\">\n",
              "      <th></th>\n",
              "      <th>Actor</th>\n",
              "      <th>Total Gross</th>\n",
              "      <th>Number of Movies</th>\n",
              "      <th>Average per Movie</th>\n",
              "      <th>#1 Movie</th>\n",
              "      <th>Gross</th>\n",
              "    </tr>\n",
              "  </thead>\n",
              "  <tbody>\n",
              "    <tr>\n",
              "      <th>0</th>\n",
              "      <td>Harrison Ford</td>\n",
              "      <td>4871.7</td>\n",
              "      <td>41</td>\n",
              "      <td>118.8</td>\n",
              "      <td>Star Wars: The Force Awakens</td>\n",
              "      <td>936.7</td>\n",
              "    </tr>\n",
              "    <tr>\n",
              "      <th>1</th>\n",
              "      <td>Samuel L. Jackson</td>\n",
              "      <td>4772.8</td>\n",
              "      <td>69</td>\n",
              "      <td>69.2</td>\n",
              "      <td>The Avengers</td>\n",
              "      <td>623.4</td>\n",
              "    </tr>\n",
              "    <tr>\n",
              "      <th>2</th>\n",
              "      <td>Morgan Freeman</td>\n",
              "      <td>4468.3</td>\n",
              "      <td>61</td>\n",
              "      <td>73.3</td>\n",
              "      <td>The Dark Knight</td>\n",
              "      <td>534.9</td>\n",
              "    </tr>\n",
              "  </tbody>\n",
              "</table>\n",
              "</div>"
            ],
            "text/plain": [
              "               Actor  Total Gross  Number of Movies  Average per Movie   \n",
              "0      Harrison Ford       4871.7                41              118.8  \\\n",
              "1  Samuel L. Jackson       4772.8                69               69.2   \n",
              "2     Morgan Freeman       4468.3                61               73.3   \n",
              "\n",
              "                       #1 Movie  Gross  \n",
              "0  Star Wars: The Force Awakens  936.7  \n",
              "1                  The Avengers  623.4  \n",
              "2               The Dark Knight  534.9  "
            ]
          },
          "execution_count": 7,
          "metadata": {},
          "output_type": "execute_result"
        }
      ],
      "source": [
        "actors.head(3)"
      ]
    },
    {
      "cell_type": "code",
      "execution_count": 25,
      "metadata": {
        "colab": {
          "base_uri": "https://localhost:8080/"
        },
        "id": "E_2HIKDa__G3",
        "outputId": "4964cf6e-4f69-4e90-fef7-13fd923b3f7a"
      },
      "outputs": [
        {
          "name": "stdout",
          "output_type": "stream",
          "text": [
            "O ator/atriz com maior número de filmes é Robert DeNiro com 79 filmes.\n"
          ]
        }
      ],
      "source": [
        "## Identifique o ator/atriz com maior número de filmes e o respectivo número de filmes.\n",
        "\n",
        "index = np.argmax(actors[\"Number of Movies\"])\n",
        "print(f'O ator/atriz com maior número de filmes é {actors[\"Actor\"][index]} com {actors[\"Number of Movies\"][index]} filmes.')\n"
      ]
    },
    {
      "cell_type": "code",
      "execution_count": 27,
      "metadata": {
        "colab": {
          "base_uri": "https://localhost:8080/"
        },
        "id": "npa-s7UlAacp",
        "outputId": "244b606f-40af-4f1d-ac1a-0417a06324bf"
      },
      "outputs": [
        {
          "name": "stdout",
          "output_type": "stream",
          "text": [
            "A média do número de filmes é 37.88\n"
          ]
        }
      ],
      "source": [
        "## Apresente a média da coluna contendo o número de filmes.\n",
        "\n",
        "print(f'A média do número de filmes é {np.mean(actors[\"Number of Movies\"])}')\n"
      ]
    },
    {
      "cell_type": "code",
      "execution_count": 28,
      "metadata": {
        "colab": {
          "base_uri": "https://localhost:8080/"
        },
        "id": "kPv3WGg_CRNb",
        "outputId": "a851b929-5293-41e5-bb01-3bacfdc745fe"
      },
      "outputs": [
        {
          "name": "stdout",
          "output_type": "stream",
          "text": [
            "O ator/atriz com maior média por filme é Anthony Daniels.\n"
          ]
        }
      ],
      "source": [
        "## Apresente o nome do ator/atriz com a maior média por filme.\n",
        "\n",
        "index_2 = np.argmax(actors[\"Average per Movie\"])\n",
        "print(f'O ator/atriz com maior média por filme é {actors[\"Actor\"][index_2]}.')\n"
      ]
    },
    {
      "cell_type": "code",
      "execution_count": 63,
      "metadata": {
        "colab": {
          "base_uri": "https://localhost:8080/"
        },
        "id": "NRhtA_Q9EwGa",
        "outputId": "53cd8e49-9c66-4c19-c1e3-ecb737ca53f7"
      },
      "outputs": [
        {
          "name": "stdout",
          "output_type": "stream",
          "text": [
            "O filme The Avengers aparece 6 vez(es) no dataset.\n",
            "O filme Catching Fire aparece 4 vez(es) no dataset.\n",
            "O filme Harry Potter / Deathly Hallows (P2) aparece 4 vez(es) no dataset.\n",
            "O filme The Dark Knight aparece 3 vez(es) no dataset.\n",
            "O filme Meet the Fockers aparece 3 vez(es) no dataset.\n",
            "O filme Star Wars: The Force Awakens aparece 3 vez(es) no dataset.\n",
            "O filme Return of the King aparece 2 vez(es) no dataset.\n",
            "O filme Dead Man's Chest aparece 2 vez(es) no dataset.\n",
            "O filme Avengers: Age of Ultron aparece 2 vez(es) no dataset.\n",
            "O filme Night at the Museum aparece 2 vez(es) no dataset.\n",
            "O filme Shrek 2 aparece 2 vez(es) no dataset.\n",
            "O filme American Sniper aparece 1 vez(es) no dataset.\n",
            "O filme Titanic aparece 1 vez(es) no dataset.\n",
            "O filme The Phantom Menace aparece 1 vez(es) no dataset.\n",
            "O filme The LEGO Movie aparece 1 vez(es) no dataset.\n",
            "O filme Toy Story 3 aparece 1 vez(es) no dataset.\n",
            "O filme Transformers 4 aparece 1 vez(es) no dataset.\n",
            "O filme War of the Worlds aparece 1 vez(es) no dataset.\n",
            "O filme The Martian aparece 1 vez(es) no dataset.\n",
            "O filme Sixth Sense aparece 1 vez(es) no dataset.\n",
            "O filme The Grinch aparece 1 vez(es) no dataset.\n",
            "O filme The Dark Knight Rises aparece 1 vez(es) no dataset.\n",
            "O filme Ocean's Eleven aparece 1 vez(es) no dataset.\n",
            "O filme Minions aparece 1 vez(es) no dataset.\n",
            "O filme Men in Black aparece 1 vez(es) no dataset.\n",
            "O filme Independence Day aparece 1 vez(es) no dataset.\n",
            "O filme Hotel Transylvania 2 aparece 1 vez(es) no dataset.\n",
            "O filme World War Z aparece 1 vez(es) no dataset.\n"
          ]
        }
      ],
      "source": [
        "## Apresente o nome do(s) filme(s) mais frequente(s) e sua respectiva frequência.\n",
        "\n",
        "f = actors['#1 Movie']\n",
        "df = pd.DataFrame({\"Filmes\": f.values})\n",
        "moviesGroup = df.groupby([\"Filmes\"])[\"Filmes\"].count().sort_values(ascending=False)\n",
        "\n",
        "for i in range(len(moviesGroup)):\n",
        "  print(f'O filme {moviesGroup.index.values[i]} aparece {moviesGroup.values[i]} vez(es) no dataset.')\n"
      ]
    },
    {
      "cell_type": "markdown",
      "metadata": {
        "id": "R7dXveA3QCc2"
      },
      "source": []
    }
  ],
  "metadata": {
    "colab": {
      "provenance": []
    },
    "kernelspec": {
      "display_name": "Python 3",
      "language": "python",
      "name": "python3"
    },
    "language_info": {
      "codemirror_mode": {
        "name": "ipython",
        "version": 3
      },
      "file_extension": ".py",
      "mimetype": "text/x-python",
      "name": "python",
      "nbconvert_exporter": "python",
      "pygments_lexer": "ipython3",
      "version": "3.11.0"
    },
    "vscode": {
      "interpreter": {
        "hash": "c261aea317cc0286b3b3261fbba9abdec21eaa57589985bb7a274bf54d6cc0a7"
      }
    }
  },
  "nbformat": 4,
  "nbformat_minor": 0
}
